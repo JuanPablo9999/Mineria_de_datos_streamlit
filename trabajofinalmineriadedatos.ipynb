{
 "cells": [
  {
   "cell_type": "code",
   "execution_count": 1,
   "id": "6cd874c3",
   "metadata": {
    "_cell_guid": "b1076dfc-b9ad-4769-8c92-a6c4dae69d19",
    "_uuid": "8f2839f25d086af736a60e9eeb907d3b93b6e0e5",
    "execution": {
     "iopub.execute_input": "2025-02-08T16:59:22.731176Z",
     "iopub.status.busy": "2025-02-08T16:59:22.730820Z",
     "iopub.status.idle": "2025-02-08T16:59:23.560444Z",
     "shell.execute_reply": "2025-02-08T16:59:23.559083Z"
    },
    "papermill": {
     "duration": 0.843858,
     "end_time": "2025-02-08T16:59:23.562123",
     "exception": false,
     "start_time": "2025-02-08T16:59:22.718265",
     "status": "completed"
    },
    "tags": []
   },
   "outputs": [
    {
     "name": "stdout",
     "output_type": "stream",
     "text": [
      "/kaggle/input/occupancy-detection/datatest.csv\n",
      "/kaggle/input/occupancy-detection/datatrain.csv\n"
     ]
    }
   ],
   "source": [
    "# This Python 3 environment comes with many helpful analytics libraries installed\n",
    "# It is defined by the kaggle/python Docker image: https://github.com/kaggle/docker-python\n",
    "# For example, here's several helpful packages to load\n",
    "\n",
    "import numpy as np # linear algebra\n",
    "import pandas as pd # data processing, CSV file I/O (e.g. pd.read_csv)\n",
    "\n",
    "# Input data files are available in the read-only \"../input/\" directory\n",
    "# For example, running this (by clicking run or pressing Shift+Enter) will list all files under the input directory\n",
    "\n",
    "import os\n",
    "for dirname, _, filenames in os.walk('/kaggle/input'):\n",
    "    for filename in filenames:\n",
    "        print(os.path.join(dirname, filename))\n",
    "\n",
    "# You can write up to 20GB to the current directory (/kaggle/working/) that gets preserved as output when you create a version using \"Save & Run All\" \n",
    "# You can also write temporary files to /kaggle/temp/, but they won't be saved outside of the current session"
   ]
  },
  {
   "cell_type": "markdown",
   "id": "07189ccf",
   "metadata": {
    "papermill": {
     "duration": 0.010622,
     "end_time": "2025-02-08T16:59:23.584171",
     "exception": false,
     "start_time": "2025-02-08T16:59:23.573549",
     "status": "completed"
    },
    "tags": []
   },
   "source": [
    "# Step 1: Imports"
   ]
  },
  {
   "cell_type": "code",
   "execution_count": 2,
   "id": "81ece6dd",
   "metadata": {
    "execution": {
     "iopub.execute_input": "2025-02-08T16:59:23.607023Z",
     "iopub.status.busy": "2025-02-08T16:59:23.606520Z",
     "iopub.status.idle": "2025-02-08T16:59:42.686151Z",
     "shell.execute_reply": "2025-02-08T16:59:42.685254Z"
    },
    "papermill": {
     "duration": 19.093189,
     "end_time": "2025-02-08T16:59:42.688048",
     "exception": false,
     "start_time": "2025-02-08T16:59:23.594859",
     "status": "completed"
    },
    "tags": []
   },
   "outputs": [],
   "source": [
    "import pandas as pd\n",
    "import numpy as np\n",
    "import matplotlib.pyplot as plt  \n",
    "import seaborn as sns\n",
    "import warnings\n",
    "\n",
    "from xgboost import XGBClassifier, plot_importance \n",
    "from sklearn.metrics import accuracy_score, precision_score, recall_score, f1_score\n",
    "import datetime as dt\n",
    "from sklearn.model_selection import train_test_split\n",
    "from sklearn.preprocessing import MinMaxScaler\n",
    "from sklearn.ensemble import RandomForestClassifier\n",
    "from sklearn.tree import DecisionTreeClassifier\n",
    "\n",
    "from sklearn.neighbors import KNeighborsClassifier\n",
    "import eli5\n",
    "from eli5.sklearn import PermutationImportance\n",
    "\n",
    "\n",
    "from tensorflow.keras.models import Sequential \n",
    "from tensorflow.keras.layers import Dense"
   ]
  },
  {
   "cell_type": "code",
   "execution_count": 3,
   "id": "77b096a7",
   "metadata": {
    "execution": {
     "iopub.execute_input": "2025-02-08T16:59:42.712001Z",
     "iopub.status.busy": "2025-02-08T16:59:42.711225Z",
     "iopub.status.idle": "2025-02-08T16:59:42.715505Z",
     "shell.execute_reply": "2025-02-08T16:59:42.714668Z"
    },
    "papermill": {
     "duration": 0.01799,
     "end_time": "2025-02-08T16:59:42.717017",
     "exception": false,
     "start_time": "2025-02-08T16:59:42.699027",
     "status": "completed"
    },
    "tags": []
   },
   "outputs": [],
   "source": [
    "warnings.filterwarnings('ignore')"
   ]
  },
  {
   "cell_type": "code",
   "execution_count": 4,
   "id": "455cee25",
   "metadata": {
    "execution": {
     "iopub.execute_input": "2025-02-08T16:59:42.739281Z",
     "iopub.status.busy": "2025-02-08T16:59:42.738977Z",
     "iopub.status.idle": "2025-02-08T16:59:42.800914Z",
     "shell.execute_reply": "2025-02-08T16:59:42.800023Z"
    },
    "papermill": {
     "duration": 0.074926,
     "end_time": "2025-02-08T16:59:42.802745",
     "exception": false,
     "start_time": "2025-02-08T16:59:42.727819",
     "status": "completed"
    },
    "tags": []
   },
   "outputs": [],
   "source": [
    "# Load datasets\n",
    "df_train = pd.read_csv('/kaggle/input/occupancy-detection/datatrain.csv')\n",
    "df_test = pd.read_csv('/kaggle/input/occupancy-detection/datatest.csv')"
   ]
  },
  {
   "cell_type": "markdown",
   "id": "7a356504",
   "metadata": {
    "papermill": {
     "duration": 0.010478,
     "end_time": "2025-02-08T16:59:42.823894",
     "exception": false,
     "start_time": "2025-02-08T16:59:42.813416",
     "status": "completed"
    },
    "tags": []
   },
   "source": [
    "# Step 2: Data Exploration"
   ]
  },
  {
   "cell_type": "code",
   "execution_count": 5,
   "id": "198c4bed",
   "metadata": {
    "execution": {
     "iopub.execute_input": "2025-02-08T16:59:42.846177Z",
     "iopub.status.busy": "2025-02-08T16:59:42.845822Z",
     "iopub.status.idle": "2025-02-08T16:59:42.870301Z",
     "shell.execute_reply": "2025-02-08T16:59:42.869394Z"
    },
    "papermill": {
     "duration": 0.037408,
     "end_time": "2025-02-08T16:59:42.871773",
     "exception": false,
     "start_time": "2025-02-08T16:59:42.834365",
     "status": "completed"
    },
    "tags": []
   },
   "outputs": [
    {
     "data": {
      "text/html": [
       "<div>\n",
       "<style scoped>\n",
       "    .dataframe tbody tr th:only-of-type {\n",
       "        vertical-align: middle;\n",
       "    }\n",
       "\n",
       "    .dataframe tbody tr th {\n",
       "        vertical-align: top;\n",
       "    }\n",
       "\n",
       "    .dataframe thead th {\n",
       "        text-align: right;\n",
       "    }\n",
       "</style>\n",
       "<table border=\"1\" class=\"dataframe\">\n",
       "  <thead>\n",
       "    <tr style=\"text-align: right;\">\n",
       "      <th></th>\n",
       "      <th>id</th>\n",
       "      <th>date</th>\n",
       "      <th>Temperature</th>\n",
       "      <th>Humidity</th>\n",
       "      <th>Light</th>\n",
       "      <th>CO2</th>\n",
       "      <th>HumidityRatio</th>\n",
       "      <th>Occupancy</th>\n",
       "    </tr>\n",
       "  </thead>\n",
       "  <tbody>\n",
       "    <tr>\n",
       "      <th>0</th>\n",
       "      <td>1</td>\n",
       "      <td>02/04/15 17:51</td>\n",
       "      <td>23.18</td>\n",
       "      <td>27.2720</td>\n",
       "      <td>426.0</td>\n",
       "      <td>721.25</td>\n",
       "      <td>0.004793</td>\n",
       "      <td>1</td>\n",
       "    </tr>\n",
       "    <tr>\n",
       "      <th>1</th>\n",
       "      <td>2</td>\n",
       "      <td>02/04/15 17:51</td>\n",
       "      <td>23.15</td>\n",
       "      <td>27.2675</td>\n",
       "      <td>429.5</td>\n",
       "      <td>714.00</td>\n",
       "      <td>0.004783</td>\n",
       "      <td>1</td>\n",
       "    </tr>\n",
       "    <tr>\n",
       "      <th>2</th>\n",
       "      <td>3</td>\n",
       "      <td>02/04/15 17:53</td>\n",
       "      <td>23.15</td>\n",
       "      <td>27.2450</td>\n",
       "      <td>426.0</td>\n",
       "      <td>713.50</td>\n",
       "      <td>0.004779</td>\n",
       "      <td>1</td>\n",
       "    </tr>\n",
       "    <tr>\n",
       "      <th>3</th>\n",
       "      <td>4</td>\n",
       "      <td>02/04/15 17:54</td>\n",
       "      <td>23.15</td>\n",
       "      <td>27.2000</td>\n",
       "      <td>426.0</td>\n",
       "      <td>708.25</td>\n",
       "      <td>0.004772</td>\n",
       "      <td>1</td>\n",
       "    </tr>\n",
       "    <tr>\n",
       "      <th>4</th>\n",
       "      <td>5</td>\n",
       "      <td>02/04/15 17:55</td>\n",
       "      <td>23.10</td>\n",
       "      <td>27.2000</td>\n",
       "      <td>426.0</td>\n",
       "      <td>704.50</td>\n",
       "      <td>0.004757</td>\n",
       "      <td>1</td>\n",
       "    </tr>\n",
       "  </tbody>\n",
       "</table>\n",
       "</div>"
      ],
      "text/plain": [
       "   id            date  Temperature  Humidity  Light     CO2  HumidityRatio  \\\n",
       "0   1  02/04/15 17:51        23.18   27.2720  426.0  721.25       0.004793   \n",
       "1   2  02/04/15 17:51        23.15   27.2675  429.5  714.00       0.004783   \n",
       "2   3  02/04/15 17:53        23.15   27.2450  426.0  713.50       0.004779   \n",
       "3   4  02/04/15 17:54        23.15   27.2000  426.0  708.25       0.004772   \n",
       "4   5  02/04/15 17:55        23.10   27.2000  426.0  704.50       0.004757   \n",
       "\n",
       "   Occupancy  \n",
       "0          1  \n",
       "1          1  \n",
       "2          1  \n",
       "3          1  \n",
       "4          1  "
      ]
     },
     "execution_count": 5,
     "metadata": {},
     "output_type": "execute_result"
    }
   ],
   "source": [
    "df_train.head()"
   ]
  },
  {
   "cell_type": "code",
   "execution_count": 6,
   "id": "07d75bba",
   "metadata": {
    "execution": {
     "iopub.execute_input": "2025-02-08T16:59:42.894385Z",
     "iopub.status.busy": "2025-02-08T16:59:42.894048Z",
     "iopub.status.idle": "2025-02-08T16:59:42.899295Z",
     "shell.execute_reply": "2025-02-08T16:59:42.898315Z"
    },
    "papermill": {
     "duration": 0.018105,
     "end_time": "2025-02-08T16:59:42.900669",
     "exception": false,
     "start_time": "2025-02-08T16:59:42.882564",
     "status": "completed"
    },
    "tags": []
   },
   "outputs": [
    {
     "data": {
      "text/plain": [
       "(17895, 8)"
      ]
     },
     "execution_count": 6,
     "metadata": {},
     "output_type": "execute_result"
    }
   ],
   "source": [
    "df_train.shape"
   ]
  },
  {
   "cell_type": "code",
   "execution_count": 7,
   "id": "663eefb0",
   "metadata": {
    "execution": {
     "iopub.execute_input": "2025-02-08T16:59:42.924071Z",
     "iopub.status.busy": "2025-02-08T16:59:42.923699Z",
     "iopub.status.idle": "2025-02-08T16:59:42.935669Z",
     "shell.execute_reply": "2025-02-08T16:59:42.934880Z"
    },
    "papermill": {
     "duration": 0.025224,
     "end_time": "2025-02-08T16:59:42.937052",
     "exception": false,
     "start_time": "2025-02-08T16:59:42.911828",
     "status": "completed"
    },
    "tags": []
   },
   "outputs": [
    {
     "data": {
      "text/html": [
       "<div>\n",
       "<style scoped>\n",
       "    .dataframe tbody tr th:only-of-type {\n",
       "        vertical-align: middle;\n",
       "    }\n",
       "\n",
       "    .dataframe tbody tr th {\n",
       "        vertical-align: top;\n",
       "    }\n",
       "\n",
       "    .dataframe thead th {\n",
       "        text-align: right;\n",
       "    }\n",
       "</style>\n",
       "<table border=\"1\" class=\"dataframe\">\n",
       "  <thead>\n",
       "    <tr style=\"text-align: right;\">\n",
       "      <th></th>\n",
       "      <th>id</th>\n",
       "      <th>date</th>\n",
       "      <th>Temperature</th>\n",
       "      <th>Humidity</th>\n",
       "      <th>Light</th>\n",
       "      <th>CO2</th>\n",
       "      <th>HumidityRatio</th>\n",
       "      <th>Occupancy</th>\n",
       "    </tr>\n",
       "  </thead>\n",
       "  <tbody>\n",
       "    <tr>\n",
       "      <th>0</th>\n",
       "      <td>140</td>\n",
       "      <td>02/02/15 14:19</td>\n",
       "      <td>23.7000</td>\n",
       "      <td>26.272</td>\n",
       "      <td>585.200000</td>\n",
       "      <td>749.200000</td>\n",
       "      <td>0.004764</td>\n",
       "      <td>1</td>\n",
       "    </tr>\n",
       "    <tr>\n",
       "      <th>1</th>\n",
       "      <td>141</td>\n",
       "      <td>02/02/15 14:19</td>\n",
       "      <td>23.7180</td>\n",
       "      <td>26.290</td>\n",
       "      <td>578.400000</td>\n",
       "      <td>760.400000</td>\n",
       "      <td>0.004773</td>\n",
       "      <td>1</td>\n",
       "    </tr>\n",
       "    <tr>\n",
       "      <th>2</th>\n",
       "      <td>142</td>\n",
       "      <td>02/02/15 14:21</td>\n",
       "      <td>23.7300</td>\n",
       "      <td>26.230</td>\n",
       "      <td>572.666667</td>\n",
       "      <td>769.666667</td>\n",
       "      <td>0.004765</td>\n",
       "      <td>1</td>\n",
       "    </tr>\n",
       "    <tr>\n",
       "      <th>3</th>\n",
       "      <td>143</td>\n",
       "      <td>02/02/15 14:22</td>\n",
       "      <td>23.7225</td>\n",
       "      <td>26.125</td>\n",
       "      <td>493.750000</td>\n",
       "      <td>774.750000</td>\n",
       "      <td>0.004744</td>\n",
       "      <td>1</td>\n",
       "    </tr>\n",
       "    <tr>\n",
       "      <th>4</th>\n",
       "      <td>144</td>\n",
       "      <td>02/02/15 14:23</td>\n",
       "      <td>23.7540</td>\n",
       "      <td>26.200</td>\n",
       "      <td>488.600000</td>\n",
       "      <td>779.000000</td>\n",
       "      <td>0.004767</td>\n",
       "      <td>1</td>\n",
       "    </tr>\n",
       "  </tbody>\n",
       "</table>\n",
       "</div>"
      ],
      "text/plain": [
       "    id            date  Temperature  Humidity       Light         CO2  \\\n",
       "0  140  02/02/15 14:19      23.7000    26.272  585.200000  749.200000   \n",
       "1  141  02/02/15 14:19      23.7180    26.290  578.400000  760.400000   \n",
       "2  142  02/02/15 14:21      23.7300    26.230  572.666667  769.666667   \n",
       "3  143  02/02/15 14:22      23.7225    26.125  493.750000  774.750000   \n",
       "4  144  02/02/15 14:23      23.7540    26.200  488.600000  779.000000   \n",
       "\n",
       "   HumidityRatio  Occupancy  \n",
       "0       0.004764          1  \n",
       "1       0.004773          1  \n",
       "2       0.004765          1  \n",
       "3       0.004744          1  \n",
       "4       0.004767          1  "
      ]
     },
     "execution_count": 7,
     "metadata": {},
     "output_type": "execute_result"
    }
   ],
   "source": [
    "df_test.head()"
   ]
  },
  {
   "cell_type": "code",
   "execution_count": 8,
   "id": "b15c82fc",
   "metadata": {
    "execution": {
     "iopub.execute_input": "2025-02-08T16:59:42.960487Z",
     "iopub.status.busy": "2025-02-08T16:59:42.960152Z",
     "iopub.status.idle": "2025-02-08T16:59:42.965641Z",
     "shell.execute_reply": "2025-02-08T16:59:42.964640Z"
    },
    "papermill": {
     "duration": 0.018693,
     "end_time": "2025-02-08T16:59:42.967306",
     "exception": false,
     "start_time": "2025-02-08T16:59:42.948613",
     "status": "completed"
    },
    "tags": []
   },
   "outputs": [
    {
     "data": {
      "text/plain": [
       "(2665, 8)"
      ]
     },
     "execution_count": 8,
     "metadata": {},
     "output_type": "execute_result"
    }
   ],
   "source": [
    "df_test.shape"
   ]
  },
  {
   "cell_type": "code",
   "execution_count": 9,
   "id": "2a8f4bab",
   "metadata": {
    "execution": {
     "iopub.execute_input": "2025-02-08T16:59:42.991582Z",
     "iopub.status.busy": "2025-02-08T16:59:42.991229Z",
     "iopub.status.idle": "2025-02-08T16:59:42.997363Z",
     "shell.execute_reply": "2025-02-08T16:59:42.996125Z"
    },
    "papermill": {
     "duration": 0.020221,
     "end_time": "2025-02-08T16:59:42.999222",
     "exception": false,
     "start_time": "2025-02-08T16:59:42.979001",
     "status": "completed"
    },
    "tags": []
   },
   "outputs": [],
   "source": [
    "# Join both datasets\n",
    "df = pd.concat([df_train, df_test], axis=0)"
   ]
  },
  {
   "cell_type": "code",
   "execution_count": 10,
   "id": "a71f867e",
   "metadata": {
    "execution": {
     "iopub.execute_input": "2025-02-08T16:59:43.023266Z",
     "iopub.status.busy": "2025-02-08T16:59:43.022945Z",
     "iopub.status.idle": "2025-02-08T16:59:43.028215Z",
     "shell.execute_reply": "2025-02-08T16:59:43.027288Z"
    },
    "papermill": {
     "duration": 0.019082,
     "end_time": "2025-02-08T16:59:43.029765",
     "exception": false,
     "start_time": "2025-02-08T16:59:43.010683",
     "status": "completed"
    },
    "tags": []
   },
   "outputs": [
    {
     "data": {
      "text/plain": [
       "(20560, 8)"
      ]
     },
     "execution_count": 10,
     "metadata": {},
     "output_type": "execute_result"
    }
   ],
   "source": [
    "df.shape"
   ]
  },
  {
   "cell_type": "code",
   "execution_count": 11,
   "id": "d01c914b",
   "metadata": {
    "execution": {
     "iopub.execute_input": "2025-02-08T16:59:43.053495Z",
     "iopub.status.busy": "2025-02-08T16:59:43.053151Z",
     "iopub.status.idle": "2025-02-08T16:59:43.081827Z",
     "shell.execute_reply": "2025-02-08T16:59:43.080639Z"
    },
    "papermill": {
     "duration": 0.042566,
     "end_time": "2025-02-08T16:59:43.083526",
     "exception": false,
     "start_time": "2025-02-08T16:59:43.040960",
     "status": "completed"
    },
    "tags": []
   },
   "outputs": [
    {
     "name": "stdout",
     "output_type": "stream",
     "text": [
      "<class 'pandas.core.frame.DataFrame'>\n",
      "Index: 20560 entries, 0 to 2664\n",
      "Data columns (total 8 columns):\n",
      " #   Column         Non-Null Count  Dtype  \n",
      "---  ------         --------------  -----  \n",
      " 0   id             20560 non-null  int64  \n",
      " 1   date           20560 non-null  object \n",
      " 2   Temperature    20560 non-null  float64\n",
      " 3   Humidity       20560 non-null  float64\n",
      " 4   Light          20560 non-null  float64\n",
      " 5   CO2            20560 non-null  float64\n",
      " 6   HumidityRatio  20560 non-null  float64\n",
      " 7   Occupancy      20560 non-null  int64  \n",
      "dtypes: float64(5), int64(2), object(1)\n",
      "memory usage: 1.4+ MB\n"
     ]
    }
   ],
   "source": [
    "df.info()"
   ]
  },
  {
   "cell_type": "code",
   "execution_count": 12,
   "id": "2e75bfaf",
   "metadata": {
    "execution": {
     "iopub.execute_input": "2025-02-08T16:59:43.107702Z",
     "iopub.status.busy": "2025-02-08T16:59:43.107392Z",
     "iopub.status.idle": "2025-02-08T16:59:44.543340Z",
     "shell.execute_reply": "2025-02-08T16:59:44.542265Z"
    },
    "papermill": {
     "duration": 1.450293,
     "end_time": "2025-02-08T16:59:44.545334",
     "exception": false,
     "start_time": "2025-02-08T16:59:43.095041",
     "status": "completed"
    },
    "tags": []
   },
   "outputs": [],
   "source": [
    "# Convert date column to datetime type\n",
    "df['date'] = pd.to_datetime(df['date'])"
   ]
  },
  {
   "cell_type": "code",
   "execution_count": 13,
   "id": "12a0f5f7",
   "metadata": {
    "execution": {
     "iopub.execute_input": "2025-02-08T16:59:44.569855Z",
     "iopub.status.busy": "2025-02-08T16:59:44.569522Z",
     "iopub.status.idle": "2025-02-08T16:59:44.580023Z",
     "shell.execute_reply": "2025-02-08T16:59:44.578624Z"
    },
    "papermill": {
     "duration": 0.02441,
     "end_time": "2025-02-08T16:59:44.581577",
     "exception": false,
     "start_time": "2025-02-08T16:59:44.557167",
     "status": "completed"
    },
    "tags": []
   },
   "outputs": [
    {
     "name": "stdout",
     "output_type": "stream",
     "text": [
      "<class 'pandas.core.frame.DataFrame'>\n",
      "Index: 20560 entries, 0 to 2664\n",
      "Data columns (total 8 columns):\n",
      " #   Column         Non-Null Count  Dtype         \n",
      "---  ------         --------------  -----         \n",
      " 0   id             20560 non-null  int64         \n",
      " 1   date           20560 non-null  datetime64[ns]\n",
      " 2   Temperature    20560 non-null  float64       \n",
      " 3   Humidity       20560 non-null  float64       \n",
      " 4   Light          20560 non-null  float64       \n",
      " 5   CO2            20560 non-null  float64       \n",
      " 6   HumidityRatio  20560 non-null  float64       \n",
      " 7   Occupancy      20560 non-null  int64         \n",
      "dtypes: datetime64[ns](1), float64(5), int64(2)\n",
      "memory usage: 1.4 MB\n"
     ]
    }
   ],
   "source": [
    "df.info()"
   ]
  },
  {
   "cell_type": "code",
   "execution_count": 14,
   "id": "9060fba1",
   "metadata": {
    "execution": {
     "iopub.execute_input": "2025-02-08T16:59:44.605991Z",
     "iopub.status.busy": "2025-02-08T16:59:44.605595Z",
     "iopub.status.idle": "2025-02-08T16:59:44.613287Z",
     "shell.execute_reply": "2025-02-08T16:59:44.612325Z"
    },
    "papermill": {
     "duration": 0.021628,
     "end_time": "2025-02-08T16:59:44.614767",
     "exception": false,
     "start_time": "2025-02-08T16:59:44.593139",
     "status": "completed"
    },
    "tags": []
   },
   "outputs": [
    {
     "data": {
      "text/plain": [
       "id               0\n",
       "date             0\n",
       "Temperature      0\n",
       "Humidity         0\n",
       "Light            0\n",
       "CO2              0\n",
       "HumidityRatio    0\n",
       "Occupancy        0\n",
       "dtype: int64"
      ]
     },
     "execution_count": 14,
     "metadata": {},
     "output_type": "execute_result"
    }
   ],
   "source": [
    "df.isna().sum()"
   ]
  },
  {
   "cell_type": "code",
   "execution_count": 15,
   "id": "dac72292",
   "metadata": {
    "execution": {
     "iopub.execute_input": "2025-02-08T16:59:44.639617Z",
     "iopub.status.busy": "2025-02-08T16:59:44.639261Z",
     "iopub.status.idle": "2025-02-08T16:59:44.646268Z",
     "shell.execute_reply": "2025-02-08T16:59:44.645258Z"
    },
    "papermill": {
     "duration": 0.021145,
     "end_time": "2025-02-08T16:59:44.647817",
     "exception": false,
     "start_time": "2025-02-08T16:59:44.626672",
     "status": "completed"
    },
    "tags": []
   },
   "outputs": [],
   "source": [
    "df = df.drop(columns=['id'])"
   ]
  },
  {
   "cell_type": "code",
   "execution_count": 16,
   "id": "b04feb69",
   "metadata": {
    "execution": {
     "iopub.execute_input": "2025-02-08T16:59:44.672253Z",
     "iopub.status.busy": "2025-02-08T16:59:44.671882Z",
     "iopub.status.idle": "2025-02-08T16:59:45.221078Z",
     "shell.execute_reply": "2025-02-08T16:59:45.219999Z"
    },
    "papermill": {
     "duration": 0.563513,
     "end_time": "2025-02-08T16:59:45.222945",
     "exception": false,
     "start_time": "2025-02-08T16:59:44.659432",
     "status": "completed"
    },
    "tags": []
   },
   "outputs": [
    {
     "data": {
      "text/plain": [
       "<Axes: title={'center': 'Correlation Heatmap'}>"
      ]
     },
     "execution_count": 16,
     "metadata": {},
     "output_type": "execute_result"
    },
    {
     "data": {
      "image/png": "[encoded data removed]",
      "text/plain": [
       "<Figure size 640x480 with 2 Axes>"
      ]
     },
     "metadata": {},
     "output_type": "display_data"
    }
   ],
   "source": [
    "# Correlation heatmap\n",
    "plt.title('Correlation Heatmap')\n",
    "sns.heatmap(df.corr(), vmin=-1, vmax=1, cmap='coolwarm', annot=True)"
   ]
  },
  {
   "cell_type": "code",
   "execution_count": 17,
   "id": "5d4231cc",
   "metadata": {
    "execution": {
     "iopub.execute_input": "2025-02-08T16:59:45.251613Z",
     "iopub.status.busy": "2025-02-08T16:59:45.251280Z",
     "iopub.status.idle": "2025-02-08T16:59:45.467937Z",
     "shell.execute_reply": "2025-02-08T16:59:45.466908Z"
    },
    "papermill": {
     "duration": 0.232897,
     "end_time": "2025-02-08T16:59:45.469624",
     "exception": false,
     "start_time": "2025-02-08T16:59:45.236727",
     "status": "completed"
    },
    "tags": []
   },
   "outputs": [
    {
     "data": {
      "image/png": "[encoded data removed]",
      "text/plain": [
       "<Figure size 2000x500 with 1 Axes>"
      ]
     },
     "metadata": {},
     "output_type": "display_data"
    }
   ],
   "source": [
    "fig = plt.figure(figsize=(20,5))\n",
    "sns.boxplot(df)\n",
    "plt.show()"
   ]
  },
  {
   "cell_type": "code",
   "execution_count": 18,
   "id": "5570ea5f",
   "metadata": {
    "execution": {
     "iopub.execute_input": "2025-02-08T16:59:45.498838Z",
     "iopub.status.busy": "2025-02-08T16:59:45.498462Z",
     "iopub.status.idle": "2025-02-08T16:59:45.824453Z",
     "shell.execute_reply": "2025-02-08T16:59:45.823358Z"
    },
    "papermill": {
     "duration": 0.341991,
     "end_time": "2025-02-08T16:59:45.825845",
     "exception": false,
     "start_time": "2025-02-08T16:59:45.483854",
     "status": "completed"
    },
    "tags": []
   },
   "outputs": [
    {
     "data": {
      "text/plain": [
       "<Axes: xlabel='Light', ylabel='Count'>"
      ]
     },
     "execution_count": 18,
     "metadata": {},
     "output_type": "execute_result"
    },
    {
     "data": {
      "image/png": "[encoded data removed]",
      "text/plain": [
       "<Figure size 640x480 with 1 Axes>"
      ]
     },
     "metadata": {},
     "output_type": "display_data"
    }
   ],
   "source": [
    "sns.histplot(df['Light'])"
   ]
  },
  {
   "cell_type": "code",
   "execution_count": 19,
   "id": "4220be1a",
   "metadata": {
    "execution": {
     "iopub.execute_input": "2025-02-08T16:59:45.855333Z",
     "iopub.status.busy": "2025-02-08T16:59:45.855028Z",
     "iopub.status.idle": "2025-02-08T16:59:46.158856Z",
     "shell.execute_reply": "2025-02-08T16:59:46.157907Z"
    },
    "papermill": {
     "duration": 0.320441,
     "end_time": "2025-02-08T16:59:46.160396",
     "exception": false,
     "start_time": "2025-02-08T16:59:45.839955",
     "status": "completed"
    },
    "tags": []
   },
   "outputs": [
    {
     "data": {
      "text/plain": [
       "<Axes: xlabel='CO2', ylabel='Count'>"
      ]
     },
     "execution_count": 19,
     "metadata": {},
     "output_type": "execute_result"
    },
    {
     "data": {
      "image/png": "[encoded data removed]",
      "text/plain": [
       "<Figure size 640x480 with 1 Axes>"
      ]
     },
     "metadata": {},
     "output_type": "display_data"
    }
   ],
   "source": [
    "sns.histplot(df['CO2'])"
   ]
  },
  {
   "cell_type": "code",
   "execution_count": 20,
   "id": "049a916a",
   "metadata": {
    "execution": {
     "iopub.execute_input": "2025-02-08T16:59:46.193447Z",
     "iopub.status.busy": "2025-02-08T16:59:46.193112Z",
     "iopub.status.idle": "2025-02-08T16:59:46.474550Z",
     "shell.execute_reply": "2025-02-08T16:59:46.473519Z"
    },
    "papermill": {
     "duration": 0.300204,
     "end_time": "2025-02-08T16:59:46.476296",
     "exception": false,
     "start_time": "2025-02-08T16:59:46.176092",
     "status": "completed"
    },
    "tags": []
   },
   "outputs": [
    {
     "data": {
      "text/plain": [
       "<Axes: xlabel='HumidityRatio', ylabel='Count'>"
      ]
     },
     "execution_count": 20,
     "metadata": {},
     "output_type": "execute_result"
    },
    {
     "data": {
      "image/png": "[encoded data removed]",
      "text/plain": [
       "<Figure size 640x480 with 1 Axes>"
      ]
     },
     "metadata": {},
     "output_type": "display_data"
    }
   ],
   "source": [
    "sns.histplot(df['HumidityRatio'])"
   ]
  },
  {
   "cell_type": "code",
   "execution_count": 21,
   "id": "680bf118",
   "metadata": {
    "execution": {
     "iopub.execute_input": "2025-02-08T16:59:46.508211Z",
     "iopub.status.busy": "2025-02-08T16:59:46.507828Z",
     "iopub.status.idle": "2025-02-08T16:59:46.520760Z",
     "shell.execute_reply": "2025-02-08T16:59:46.519875Z"
    },
    "papermill": {
     "duration": 0.030509,
     "end_time": "2025-02-08T16:59:46.522170",
     "exception": false,
     "start_time": "2025-02-08T16:59:46.491661",
     "status": "completed"
    },
    "tags": []
   },
   "outputs": [
    {
     "data": {
      "text/html": [
       "<div>\n",
       "<style scoped>\n",
       "    .dataframe tbody tr th:only-of-type {\n",
       "        vertical-align: middle;\n",
       "    }\n",
       "\n",
       "    .dataframe tbody tr th {\n",
       "        vertical-align: top;\n",
       "    }\n",
       "\n",
       "    .dataframe thead th {\n",
       "        text-align: right;\n",
       "    }\n",
       "</style>\n",
       "<table border=\"1\" class=\"dataframe\">\n",
       "  <thead>\n",
       "    <tr style=\"text-align: right;\">\n",
       "      <th></th>\n",
       "      <th>date</th>\n",
       "      <th>Temperature</th>\n",
       "      <th>Humidity</th>\n",
       "      <th>Light</th>\n",
       "      <th>CO2</th>\n",
       "      <th>HumidityRatio</th>\n",
       "      <th>Occupancy</th>\n",
       "    </tr>\n",
       "  </thead>\n",
       "  <tbody>\n",
       "    <tr>\n",
       "      <th>0</th>\n",
       "      <td>2015-02-04 17:51:00</td>\n",
       "      <td>23.18</td>\n",
       "      <td>27.2720</td>\n",
       "      <td>426.0</td>\n",
       "      <td>721.25</td>\n",
       "      <td>0.004793</td>\n",
       "      <td>1</td>\n",
       "    </tr>\n",
       "    <tr>\n",
       "      <th>1</th>\n",
       "      <td>2015-02-04 17:51:00</td>\n",
       "      <td>23.15</td>\n",
       "      <td>27.2675</td>\n",
       "      <td>429.5</td>\n",
       "      <td>714.00</td>\n",
       "      <td>0.004783</td>\n",
       "      <td>1</td>\n",
       "    </tr>\n",
       "    <tr>\n",
       "      <th>2</th>\n",
       "      <td>2015-02-04 17:53:00</td>\n",
       "      <td>23.15</td>\n",
       "      <td>27.2450</td>\n",
       "      <td>426.0</td>\n",
       "      <td>713.50</td>\n",
       "      <td>0.004779</td>\n",
       "      <td>1</td>\n",
       "    </tr>\n",
       "    <tr>\n",
       "      <th>3</th>\n",
       "      <td>2015-02-04 17:54:00</td>\n",
       "      <td>23.15</td>\n",
       "      <td>27.2000</td>\n",
       "      <td>426.0</td>\n",
       "      <td>708.25</td>\n",
       "      <td>0.004772</td>\n",
       "      <td>1</td>\n",
       "    </tr>\n",
       "    <tr>\n",
       "      <th>4</th>\n",
       "      <td>2015-02-04 17:55:00</td>\n",
       "      <td>23.10</td>\n",
       "      <td>27.2000</td>\n",
       "      <td>426.0</td>\n",
       "      <td>704.50</td>\n",
       "      <td>0.004757</td>\n",
       "      <td>1</td>\n",
       "    </tr>\n",
       "  </tbody>\n",
       "</table>\n",
       "</div>"
      ],
      "text/plain": [
       "                 date  Temperature  Humidity  Light     CO2  HumidityRatio  \\\n",
       "0 2015-02-04 17:51:00        23.18   27.2720  426.0  721.25       0.004793   \n",
       "1 2015-02-04 17:51:00        23.15   27.2675  429.5  714.00       0.004783   \n",
       "2 2015-02-04 17:53:00        23.15   27.2450  426.0  713.50       0.004779   \n",
       "3 2015-02-04 17:54:00        23.15   27.2000  426.0  708.25       0.004772   \n",
       "4 2015-02-04 17:55:00        23.10   27.2000  426.0  704.50       0.004757   \n",
       "\n",
       "   Occupancy  \n",
       "0          1  \n",
       "1          1  \n",
       "2          1  \n",
       "3          1  \n",
       "4          1  "
      ]
     },
     "execution_count": 21,
     "metadata": {},
     "output_type": "execute_result"
    }
   ],
   "source": [
    "df.head()"
   ]
  },
  {
   "cell_type": "code",
   "execution_count": 22,
   "id": "c507d46a",
   "metadata": {
    "execution": {
     "iopub.execute_input": "2025-02-08T16:59:46.554090Z",
     "iopub.status.busy": "2025-02-08T16:59:46.553702Z",
     "iopub.status.idle": "2025-02-08T16:59:46.562621Z",
     "shell.execute_reply": "2025-02-08T16:59:46.561626Z"
    },
    "papermill": {
     "duration": 0.026383,
     "end_time": "2025-02-08T16:59:46.564050",
     "exception": false,
     "start_time": "2025-02-08T16:59:46.537667",
     "status": "completed"
    },
    "tags": []
   },
   "outputs": [
    {
     "data": {
      "text/plain": [
       "Occupancy\n",
       "0    0.768969\n",
       "1    0.231031\n",
       "Name: proportion, dtype: float64"
      ]
     },
     "execution_count": 22,
     "metadata": {},
     "output_type": "execute_result"
    }
   ],
   "source": [
    "# Check the class distribution\n",
    "df['Occupancy'].value_counts(normalize=True)"
   ]
  },
  {
   "cell_type": "code",
   "execution_count": 23,
   "id": "6a99ed2a",
   "metadata": {
    "execution": {
     "iopub.execute_input": "2025-02-08T16:59:46.595716Z",
     "iopub.status.busy": "2025-02-08T16:59:46.595368Z",
     "iopub.status.idle": "2025-02-08T16:59:46.894527Z",
     "shell.execute_reply": "2025-02-08T16:59:46.893248Z"
    },
    "papermill": {
     "duration": 0.31759,
     "end_time": "2025-02-08T16:59:46.896793",
     "exception": false,
     "start_time": "2025-02-08T16:59:46.579203",
     "status": "completed"
    },
    "tags": []
   },
   "outputs": [],
   "source": [
    "# Extract year, month, date etc from date column\n",
    "df['date'] = pd.to_datetime(df['date'])\n",
    "df['year'] =df['date'].dt.year\n",
    "df['month'] = df['date'].dt.month\n",
    "df['day'] = df['date'].dt.day_name()\n",
    "df['weekday'] =df['date'].dt.weekday"
   ]
  },
  {
   "cell_type": "code",
   "execution_count": 24,
   "id": "8fa2afe3",
   "metadata": {
    "execution": {
     "iopub.execute_input": "2025-02-08T16:59:46.939810Z",
     "iopub.status.busy": "2025-02-08T16:59:46.939447Z",
     "iopub.status.idle": "2025-02-08T16:59:46.954453Z",
     "shell.execute_reply": "2025-02-08T16:59:46.953478Z"
    },
    "papermill": {
     "duration": 0.032897,
     "end_time": "2025-02-08T16:59:46.956068",
     "exception": false,
     "start_time": "2025-02-08T16:59:46.923171",
     "status": "completed"
    },
    "tags": []
   },
   "outputs": [
    {
     "data": {
      "text/html": [
       "<div>\n",
       "<style scoped>\n",
       "    .dataframe tbody tr th:only-of-type {\n",
       "        vertical-align: middle;\n",
       "    }\n",
       "\n",
       "    .dataframe tbody tr th {\n",
       "        vertical-align: top;\n",
       "    }\n",
       "\n",
       "    .dataframe thead th {\n",
       "        text-align: right;\n",
       "    }\n",
       "</style>\n",
       "<table border=\"1\" class=\"dataframe\">\n",
       "  <thead>\n",
       "    <tr style=\"text-align: right;\">\n",
       "      <th></th>\n",
       "      <th></th>\n",
       "      <th>Occupancy</th>\n",
       "    </tr>\n",
       "    <tr>\n",
       "      <th>day</th>\n",
       "      <th>Occupancy</th>\n",
       "      <th></th>\n",
       "    </tr>\n",
       "  </thead>\n",
       "  <tbody>\n",
       "    <tr>\n",
       "      <th rowspan=\"2\" valign=\"top\">Friday</th>\n",
       "      <th>0</th>\n",
       "      <td>1800</td>\n",
       "    </tr>\n",
       "    <tr>\n",
       "      <th>1</th>\n",
       "      <td>1080</td>\n",
       "    </tr>\n",
       "    <tr>\n",
       "      <th rowspan=\"2\" valign=\"top\">Monday</th>\n",
       "      <th>0</th>\n",
       "      <td>2173</td>\n",
       "    </tr>\n",
       "    <tr>\n",
       "      <th>1</th>\n",
       "      <td>1288</td>\n",
       "    </tr>\n",
       "    <tr>\n",
       "      <th>Saturday</th>\n",
       "      <th>0</th>\n",
       "      <td>2880</td>\n",
       "    </tr>\n",
       "    <tr>\n",
       "      <th>Sunday</th>\n",
       "      <th>0</th>\n",
       "      <td>2880</td>\n",
       "    </tr>\n",
       "    <tr>\n",
       "      <th rowspan=\"2\" valign=\"top\">Thursday</th>\n",
       "      <th>0</th>\n",
       "      <td>2097</td>\n",
       "    </tr>\n",
       "    <tr>\n",
       "      <th>1</th>\n",
       "      <td>783</td>\n",
       "    </tr>\n",
       "    <tr>\n",
       "      <th rowspan=\"2\" valign=\"top\">Tuesday</th>\n",
       "      <th>0</th>\n",
       "      <td>2264</td>\n",
       "    </tr>\n",
       "    <tr>\n",
       "      <th>1</th>\n",
       "      <td>1190</td>\n",
       "    </tr>\n",
       "    <tr>\n",
       "      <th rowspan=\"2\" valign=\"top\">Wednesday</th>\n",
       "      <th>0</th>\n",
       "      <td>1716</td>\n",
       "    </tr>\n",
       "    <tr>\n",
       "      <th>1</th>\n",
       "      <td>409</td>\n",
       "    </tr>\n",
       "  </tbody>\n",
       "</table>\n",
       "</div>"
      ],
      "text/plain": [
       "                     Occupancy\n",
       "day       Occupancy           \n",
       "Friday    0               1800\n",
       "          1               1080\n",
       "Monday    0               2173\n",
       "          1               1288\n",
       "Saturday  0               2880\n",
       "Sunday    0               2880\n",
       "Thursday  0               2097\n",
       "          1                783\n",
       "Tuesday   0               2264\n",
       "          1               1190\n",
       "Wednesday 0               1716\n",
       "          1                409"
      ]
     },
     "execution_count": 24,
     "metadata": {},
     "output_type": "execute_result"
    }
   ],
   "source": [
    "df.groupby(['day','Occupancy'])[['Occupancy']].count()"
   ]
  },
  {
   "cell_type": "code",
   "execution_count": 25,
   "id": "69512744",
   "metadata": {
    "execution": {
     "iopub.execute_input": "2025-02-08T16:59:46.989133Z",
     "iopub.status.busy": "2025-02-08T16:59:46.988750Z",
     "iopub.status.idle": "2025-02-08T16:59:46.994242Z",
     "shell.execute_reply": "2025-02-08T16:59:46.993197Z"
    },
    "papermill": {
     "duration": 0.023733,
     "end_time": "2025-02-08T16:59:46.995778",
     "exception": false,
     "start_time": "2025-02-08T16:59:46.972045",
     "status": "completed"
    },
    "tags": []
   },
   "outputs": [],
   "source": [
    "# Replace day_name with day number\n",
    "df['day'] = df['date'].dt.day "
   ]
  },
  {
   "cell_type": "markdown",
   "id": "a36af2bd",
   "metadata": {
    "papermill": {
     "duration": 0.01539,
     "end_time": "2025-02-08T16:59:47.027145",
     "exception": false,
     "start_time": "2025-02-08T16:59:47.011755",
     "status": "completed"
    },
    "tags": []
   },
   "source": [
    "# Step 3: Model Building & Evaluation"
   ]
  },
  {
   "cell_type": "code",
   "execution_count": 26,
   "id": "8dbd888c",
   "metadata": {
    "execution": {
     "iopub.execute_input": "2025-02-08T16:59:47.060109Z",
     "iopub.status.busy": "2025-02-08T16:59:47.059703Z",
     "iopub.status.idle": "2025-02-08T16:59:47.066504Z",
     "shell.execute_reply": "2025-02-08T16:59:47.065758Z"
    },
    "papermill": {
     "duration": 0.024563,
     "end_time": "2025-02-08T16:59:47.067907",
     "exception": false,
     "start_time": "2025-02-08T16:59:47.043344",
     "status": "completed"
    },
    "tags": []
   },
   "outputs": [],
   "source": [
    "#Create X and y sets\n",
    "X = df.copy()\n",
    "X = X.drop(['date','Occupancy'], axis=1)\n",
    "\n",
    "y = df['Occupancy']"
   ]
  },
  {
   "cell_type": "code",
   "execution_count": 27,
   "id": "793f8215",
   "metadata": {
    "execution": {
     "iopub.execute_input": "2025-02-08T16:59:47.100671Z",
     "iopub.status.busy": "2025-02-08T16:59:47.100349Z",
     "iopub.status.idle": "2025-02-08T16:59:47.112828Z",
     "shell.execute_reply": "2025-02-08T16:59:47.111785Z"
    },
    "papermill": {
     "duration": 0.030614,
     "end_time": "2025-02-08T16:59:47.114435",
     "exception": false,
     "start_time": "2025-02-08T16:59:47.083821",
     "status": "completed"
    },
    "tags": []
   },
   "outputs": [
    {
     "data": {
      "text/html": [
       "<div>\n",
       "<style scoped>\n",
       "    .dataframe tbody tr th:only-of-type {\n",
       "        vertical-align: middle;\n",
       "    }\n",
       "\n",
       "    .dataframe tbody tr th {\n",
       "        vertical-align: top;\n",
       "    }\n",
       "\n",
       "    .dataframe thead th {\n",
       "        text-align: right;\n",
       "    }\n",
       "</style>\n",
       "<table border=\"1\" class=\"dataframe\">\n",
       "  <thead>\n",
       "    <tr style=\"text-align: right;\">\n",
       "      <th></th>\n",
       "      <th>Temperature</th>\n",
       "      <th>Humidity</th>\n",
       "      <th>Light</th>\n",
       "      <th>CO2</th>\n",
       "      <th>HumidityRatio</th>\n",
       "      <th>year</th>\n",
       "      <th>month</th>\n",
       "      <th>day</th>\n",
       "      <th>weekday</th>\n",
       "    </tr>\n",
       "  </thead>\n",
       "  <tbody>\n",
       "    <tr>\n",
       "      <th>0</th>\n",
       "      <td>23.18</td>\n",
       "      <td>27.2720</td>\n",
       "      <td>426.0</td>\n",
       "      <td>721.25</td>\n",
       "      <td>0.004793</td>\n",
       "      <td>2015</td>\n",
       "      <td>2</td>\n",
       "      <td>4</td>\n",
       "      <td>2</td>\n",
       "    </tr>\n",
       "    <tr>\n",
       "      <th>1</th>\n",
       "      <td>23.15</td>\n",
       "      <td>27.2675</td>\n",
       "      <td>429.5</td>\n",
       "      <td>714.00</td>\n",
       "      <td>0.004783</td>\n",
       "      <td>2015</td>\n",
       "      <td>2</td>\n",
       "      <td>4</td>\n",
       "      <td>2</td>\n",
       "    </tr>\n",
       "    <tr>\n",
       "      <th>2</th>\n",
       "      <td>23.15</td>\n",
       "      <td>27.2450</td>\n",
       "      <td>426.0</td>\n",
       "      <td>713.50</td>\n",
       "      <td>0.004779</td>\n",
       "      <td>2015</td>\n",
       "      <td>2</td>\n",
       "      <td>4</td>\n",
       "      <td>2</td>\n",
       "    </tr>\n",
       "    <tr>\n",
       "      <th>3</th>\n",
       "      <td>23.15</td>\n",
       "      <td>27.2000</td>\n",
       "      <td>426.0</td>\n",
       "      <td>708.25</td>\n",
       "      <td>0.004772</td>\n",
       "      <td>2015</td>\n",
       "      <td>2</td>\n",
       "      <td>4</td>\n",
       "      <td>2</td>\n",
       "    </tr>\n",
       "    <tr>\n",
       "      <th>4</th>\n",
       "      <td>23.10</td>\n",
       "      <td>27.2000</td>\n",
       "      <td>426.0</td>\n",
       "      <td>704.50</td>\n",
       "      <td>0.004757</td>\n",
       "      <td>2015</td>\n",
       "      <td>2</td>\n",
       "      <td>4</td>\n",
       "      <td>2</td>\n",
       "    </tr>\n",
       "  </tbody>\n",
       "</table>\n",
       "</div>"
      ],
      "text/plain": [
       "   Temperature  Humidity  Light     CO2  HumidityRatio  year  month  day  \\\n",
       "0        23.18   27.2720  426.0  721.25       0.004793  2015      2    4   \n",
       "1        23.15   27.2675  429.5  714.00       0.004783  2015      2    4   \n",
       "2        23.15   27.2450  426.0  713.50       0.004779  2015      2    4   \n",
       "3        23.15   27.2000  426.0  708.25       0.004772  2015      2    4   \n",
       "4        23.10   27.2000  426.0  704.50       0.004757  2015      2    4   \n",
       "\n",
       "   weekday  \n",
       "0        2  \n",
       "1        2  \n",
       "2        2  \n",
       "3        2  \n",
       "4        2  "
      ]
     },
     "execution_count": 27,
     "metadata": {},
     "output_type": "execute_result"
    }
   ],
   "source": [
    "X.head()"
   ]
  },
  {
   "cell_type": "code",
   "execution_count": 28,
   "id": "cdb2adfb",
   "metadata": {
    "execution": {
     "iopub.execute_input": "2025-02-08T16:59:47.148366Z",
     "iopub.status.busy": "2025-02-08T16:59:47.148033Z",
     "iopub.status.idle": "2025-02-08T16:59:47.162274Z",
     "shell.execute_reply": "2025-02-08T16:59:47.161442Z"
    },
    "papermill": {
     "duration": 0.033138,
     "end_time": "2025-02-08T16:59:47.164020",
     "exception": false,
     "start_time": "2025-02-08T16:59:47.130882",
     "status": "completed"
    },
    "tags": []
   },
   "outputs": [],
   "source": [
    "# Apply MinMax scaler\n",
    "sc = MinMaxScaler()\n",
    "X_scaled = sc.fit_transform(X)"
   ]
  },
  {
   "cell_type": "code",
   "execution_count": 29,
   "id": "1a06ae51",
   "metadata": {
    "execution": {
     "iopub.execute_input": "2025-02-08T16:59:47.196625Z",
     "iopub.status.busy": "2025-02-08T16:59:47.196251Z",
     "iopub.status.idle": "2025-02-08T16:59:47.203366Z",
     "shell.execute_reply": "2025-02-08T16:59:47.202320Z"
    },
    "papermill": {
     "duration": 0.025301,
     "end_time": "2025-02-08T16:59:47.205066",
     "exception": false,
     "start_time": "2025-02-08T16:59:47.179765",
     "status": "completed"
    },
    "tags": []
   },
   "outputs": [],
   "source": [
    "# Split data into training and testing sets\n",
    "X_train, X_test, y_train, y_test = train_test_split(X_scaled, y, test_size=0.2)\n",
    "#X_train, X_test, y_train, y_test = train_test_split(X, y, test_size=0.2)"
   ]
  },
  {
   "cell_type": "markdown",
   "id": "19fd1be7",
   "metadata": {
    "papermill": {
     "duration": 0.016283,
     "end_time": "2025-02-08T16:59:47.237508",
     "exception": false,
     "start_time": "2025-02-08T16:59:47.221225",
     "status": "completed"
    },
    "tags": []
   },
   "source": [
    "## 1. XGBoost Classifier"
   ]
  },
  {
   "cell_type": "code",
   "execution_count": 30,
   "id": "0a621369",
   "metadata": {
    "execution": {
     "iopub.execute_input": "2025-02-08T16:59:47.286663Z",
     "iopub.status.busy": "2025-02-08T16:59:47.286136Z",
     "iopub.status.idle": "2025-02-08T16:59:47.486306Z",
     "shell.execute_reply": "2025-02-08T16:59:47.484004Z"
    },
    "papermill": {
     "duration": 0.224909,
     "end_time": "2025-02-08T16:59:47.488203",
     "exception": false,
     "start_time": "2025-02-08T16:59:47.263294",
     "status": "completed"
    },
    "tags": []
   },
   "outputs": [
    {
     "data": {
      "text/html": [
       "<style>#sk-container-id-1 {color: black;background-color: white;}#sk-container-id-1 pre{padding: 0;}#sk-container-id-1 div.sk-toggleable {background-color: white;}#sk-container-id-1 label.sk-toggleable__label {cursor: pointer;display: block;width: 100%;margin-bottom: 0;padding: 0.3em;box-sizing: border-box;text-align: center;}#sk-container-id-1 label.sk-toggleable__label-arrow:before {content: \"▸\";float: left;margin-right: 0.25em;color: #696969;}#sk-container-id-1 label.sk-toggleable__label-arrow:hover:before {color: black;}#sk-container-id-1 div.sk-estimator:hover label.sk-toggleable__label-arrow:before {color: black;}#sk-container-id-1 div.sk-toggleable__content {max-height: 0;max-width: 0;overflow: hidden;text-align: left;background-color: #f0f8ff;}#sk-container-id-1 div.sk-toggleable__content pre {margin: 0.2em;color: black;border-radius: 0.25em;background-color: #f0f8ff;}#sk-container-id-1 input.sk-toggleable__control:checked~div.sk-toggleable__content {max-height: 200px;max-width: 100%;overflow: auto;}#sk-container-id-1 input.sk-toggleable__control:checked~label.sk-toggleable__label-arrow:before {content: \"▾\";}#sk-container-id-1 div.sk-estimator input.sk-toggleable__control:checked~label.sk-toggleable__label {background-color: #d4ebff;}#sk-container-id-1 div.sk-label input.sk-toggleable__control:checked~label.sk-toggleable__label {background-color: #d4ebff;}#sk-container-id-1 input.sk-hidden--visually {border: 0;clip: rect(1px 1px 1px 1px);clip: rect(1px, 1px, 1px, 1px);height: 1px;margin: -1px;overflow: hidden;padding: 0;position: absolute;width: 1px;}#sk-container-id-1 div.sk-estimator {font-family: monospace;background-color: #f0f8ff;border: 1px dotted black;border-radius: 0.25em;box-sizing: border-box;margin-bottom: 0.5em;}#sk-container-id-1 div.sk-estimator:hover {background-color: #d4ebff;}#sk-container-id-1 div.sk-parallel-item::after {content: \"\";width: 100%;border-bottom: 1px solid gray;flex-grow: 1;}#sk-container-id-1 div.sk-label:hover label.sk-toggleable__label {background-color: #d4ebff;}#sk-container-id-1 div.sk-serial::before {content: \"\";position: absolute;border-left: 1px solid gray;box-sizing: border-box;top: 0;bottom: 0;left: 50%;z-index: 0;}#sk-container-id-1 div.sk-serial {display: flex;flex-direction: column;align-items: center;background-color: white;padding-right: 0.2em;padding-left: 0.2em;position: relative;}#sk-container-id-1 div.sk-item {position: relative;z-index: 1;}#sk-container-id-1 div.sk-parallel {display: flex;align-items: stretch;justify-content: center;background-color: white;position: relative;}#sk-container-id-1 div.sk-item::before, #sk-container-id-1 div.sk-parallel-item::before {content: \"\";position: absolute;border-left: 1px solid gray;box-sizing: border-box;top: 0;bottom: 0;left: 50%;z-index: -1;}#sk-container-id-1 div.sk-parallel-item {display: flex;flex-direction: column;z-index: 1;position: relative;background-color: white;}#sk-container-id-1 div.sk-parallel-item:first-child::after {align-self: flex-end;width: 50%;}#sk-container-id-1 div.sk-parallel-item:last-child::after {align-self: flex-start;width: 50%;}#sk-container-id-1 div.sk-parallel-item:only-child::after {width: 0;}#sk-container-id-1 div.sk-dashed-wrapped {border: 1px dashed gray;margin: 0 0.4em 0.5em 0.4em;box-sizing: border-box;padding-bottom: 0.4em;background-color: white;}#sk-container-id-1 div.sk-label label {font-family: monospace;font-weight: bold;display: inline-block;line-height: 1.2em;}#sk-container-id-1 div.sk-label-container {text-align: center;}#sk-container-id-1 div.sk-container {/* jupyter's `normalize.less` sets `[hidden] { display: none; }` but bootstrap.min.css set `[hidden] { display: none !important; }` so we also need the `!important` here to be able to override the default hidden behavior on the sphinx rendered scikit-learn.org. See: https://github.com/scikit-learn/scikit-learn/issues/21755 */display: inline-block !important;position: relative;}#sk-container-id-1 div.sk-text-repr-fallback {display: none;}</style><div id=\"sk-container-id-1\" class=\"sk-top-container\"><div class=\"sk-text-repr-fallback\"><pre>XGBClassifier(base_score=None, booster=None, callbacks=None,\n",
       "              colsample_bylevel=None, colsample_bynode=None,\n",
       "              colsample_bytree=None, device=None, early_stopping_rounds=None,\n",
       "              enable_categorical=True, eval_metric=None, feature_types=None,\n",
       "              gamma=None, grow_policy=None, importance_type=None,\n",
       "              interaction_constraints=None, learning_rate=None, max_bin=None,\n",
       "              max_cat_threshold=None, max_cat_to_onehot=None,\n",
       "              max_delta_step=None, max_depth=None, max_leaves=None,\n",
       "              min_child_weight=None, missing=nan, monotone_constraints=None,\n",
       "              multi_strategy=None, n_estimators=None, n_jobs=None,\n",
       "              num_parallel_tree=None, random_state=None, ...)</pre><b>In a Jupyter environment, please rerun this cell to show the HTML representation or trust the notebook. <br />On GitHub, the HTML representation is unable to render, please try loading this page with nbviewer.org.</b></div><div class=\"sk-container\" hidden><div class=\"sk-item\"><div class=\"sk-estimator sk-toggleable\"><input class=\"sk-toggleable__control sk-hidden--visually\" id=\"sk-estimator-id-1\" type=\"checkbox\" checked><label for=\"sk-estimator-id-1\" class=\"sk-toggleable__label sk-toggleable__label-arrow\">XGBClassifier</label><div class=\"sk-toggleable__content\"><pre>XGBClassifier(base_score=None, booster=None, callbacks=None,\n",
       "              colsample_bylevel=None, colsample_bynode=None,\n",
       "              colsample_bytree=None, device=None, early_stopping_rounds=None,\n",
       "              enable_categorical=True, eval_metric=None, feature_types=None,\n",
       "              gamma=None, grow_policy=None, importance_type=None,\n",
       "              interaction_constraints=None, learning_rate=None, max_bin=None,\n",
       "              max_cat_threshold=None, max_cat_to_onehot=None,\n",
       "              max_delta_step=None, max_depth=None, max_leaves=None,\n",
       "              min_child_weight=None, missing=nan, monotone_constraints=None,\n",
       "              multi_strategy=None, n_estimators=None, n_jobs=None,\n",
       "              num_parallel_tree=None, random_state=None, ...)</pre></div></div></div></div></div>"
      ],
      "text/plain": [
       "XGBClassifier(base_score=None, booster=None, callbacks=None,\n",
       "              colsample_bylevel=None, colsample_bynode=None,\n",
       "              colsample_bytree=None, device=None, early_stopping_rounds=None,\n",
       "              enable_categorical=True, eval_metric=None, feature_types=None,\n",
       "              gamma=None, grow_policy=None, importance_type=None,\n",
       "              interaction_constraints=None, learning_rate=None, max_bin=None,\n",
       "              max_cat_threshold=None, max_cat_to_onehot=None,\n",
       "              max_delta_step=None, max_depth=None, max_leaves=None,\n",
       "              min_child_weight=None, missing=nan, monotone_constraints=None,\n",
       "              multi_strategy=None, n_estimators=None, n_jobs=None,\n",
       "              num_parallel_tree=None, random_state=None, ...)"
      ]
     },
     "execution_count": 30,
     "metadata": {},
     "output_type": "execute_result"
    }
   ],
   "source": [
    "# Train XGBclassifier\n",
    "xgb = XGBClassifier(enable_categorical=True)\n",
    "xgb.fit(X_train, y_train)"
   ]
  },
  {
   "cell_type": "code",
   "execution_count": 31,
   "id": "d19b2bed",
   "metadata": {
    "execution": {
     "iopub.execute_input": "2025-02-08T16:59:47.521184Z",
     "iopub.status.busy": "2025-02-08T16:59:47.520819Z",
     "iopub.status.idle": "2025-02-08T16:59:47.547326Z",
     "shell.execute_reply": "2025-02-08T16:59:47.546166Z"
    },
    "papermill": {
     "duration": 0.044817,
     "end_time": "2025-02-08T16:59:47.549040",
     "exception": false,
     "start_time": "2025-02-08T16:59:47.504223",
     "status": "completed"
    },
    "tags": []
   },
   "outputs": [
    {
     "name": "stdout",
     "output_type": "stream",
     "text": [
      "Accuracy: 0.9919747081712063\n",
      "F1 score 0.9829457364341085\n",
      "Recall score 0.9885654885654885\n",
      "Precision score 0.9773895169578622\n"
     ]
    }
   ],
   "source": [
    "# Make predictions and evaluate performance\n",
    "y_pred = xgb.predict(X_test)\n",
    "accuracy = accuracy_score(y_test, y_pred)\n",
    "print('Accuracy:', accuracy)\n",
    "print('F1 score', f1_score(y_test, y_pred))\n",
    "print('Recall score',recall_score(y_test, y_pred))\n",
    "print('Precision score', precision_score(y_test, y_pred))"
   ]
  },
  {
   "cell_type": "code",
   "execution_count": 32,
   "id": "40a2601d",
   "metadata": {
    "execution": {
     "iopub.execute_input": "2025-02-08T16:59:47.582174Z",
     "iopub.status.busy": "2025-02-08T16:59:47.581808Z",
     "iopub.status.idle": "2025-02-08T16:59:47.831541Z",
     "shell.execute_reply": "2025-02-08T16:59:47.830529Z"
    },
    "papermill": {
     "duration": 0.268318,
     "end_time": "2025-02-08T16:59:47.833418",
     "exception": false,
     "start_time": "2025-02-08T16:59:47.565100",
     "status": "completed"
    },
    "tags": []
   },
   "outputs": [
    {
     "data": {
      "image/png": "[encoded data removed]",
      "text/plain": [
       "<Figure size 640x480 with 1 Axes>"
      ]
     },
     "metadata": {},
     "output_type": "display_data"
    }
   ],
   "source": [
    "feat_importances = pd.Series(xgb.feature_importances_, index=X.columns)\n",
    "feat_importances = feat_importances.sort_values(ascending=True)\n",
    "plt.title('Feature Importance graph')\n",
    "feat_importances.plot(kind='barh')\n",
    "plt.xlabel('Importances')\n",
    "plt.ylabel('Features')\n",
    "plt.show()\n",
    "# plot_importance(clf)"
   ]
  },
  {
   "cell_type": "code",
   "execution_count": 33,
   "id": "7e80464a",
   "metadata": {
    "execution": {
     "iopub.execute_input": "2025-02-08T16:59:47.870505Z",
     "iopub.status.busy": "2025-02-08T16:59:47.870129Z",
     "iopub.status.idle": "2025-02-08T16:59:47.924602Z",
     "shell.execute_reply": "2025-02-08T16:59:47.923756Z"
    },
    "papermill": {
     "duration": 0.075821,
     "end_time": "2025-02-08T16:59:47.926724",
     "exception": false,
     "start_time": "2025-02-08T16:59:47.850903",
     "status": "completed"
    },
    "tags": []
   },
   "outputs": [],
   "source": [
    "import gzip\n",
    "import pickle\n",
    "filename = 'xgb_model.pkl.gz'\n",
    "with gzip.open(filename, 'wb') as f:\n",
    "    pickle.dump(xgb, f)    # aquí seleccionamos el modelo\n",
    "\n",
    "# Aquí probamos que sí funcione\n",
    "# Cargar el modelo comprimido\n",
    "with gzip.open(filename, 'rb') as f:\n",
    "    loaded_model = pickle.load(f)\n",
    "\n"
   ]
  },
  {
   "cell_type": "markdown",
   "id": "c9c8eca5",
   "metadata": {
    "papermill": {
     "duration": 0.017474,
     "end_time": "2025-02-08T16:59:47.965313",
     "exception": false,
     "start_time": "2025-02-08T16:59:47.947839",
     "status": "completed"
    },
    "tags": []
   },
   "source": [
    "## 2. Random Forest Classifier"
   ]
  },
  {
   "cell_type": "code",
   "execution_count": 34,
   "id": "8fe28300",
   "metadata": {
    "execution": {
     "iopub.execute_input": "2025-02-08T16:59:47.999506Z",
     "iopub.status.busy": "2025-02-08T16:59:47.999185Z",
     "iopub.status.idle": "2025-02-08T16:59:48.003391Z",
     "shell.execute_reply": "2025-02-08T16:59:48.002314Z"
    },
    "papermill": {
     "duration": 0.023372,
     "end_time": "2025-02-08T16:59:48.005096",
     "exception": false,
     "start_time": "2025-02-08T16:59:47.981724",
     "status": "completed"
    },
    "tags": []
   },
   "outputs": [],
   "source": [
    "rfc = RandomForestClassifier(n_estimators=300, random_state=42)"
   ]
  },
  {
   "cell_type": "code",
   "execution_count": 35,
   "id": "59bbff75",
   "metadata": {
    "execution": {
     "iopub.execute_input": "2025-02-08T16:59:48.040240Z",
     "iopub.status.busy": "2025-02-08T16:59:48.039830Z",
     "iopub.status.idle": "2025-02-08T16:59:51.941893Z",
     "shell.execute_reply": "2025-02-08T16:59:51.940869Z"
    },
    "papermill": {
     "duration": 3.921875,
     "end_time": "2025-02-08T16:59:51.943884",
     "exception": false,
     "start_time": "2025-02-08T16:59:48.022009",
     "status": "completed"
    },
    "tags": []
   },
   "outputs": [
    {
     "data": {
      "text/html": [
       "<style>#sk-container-id-2 {color: black;background-color: white;}#sk-container-id-2 pre{padding: 0;}#sk-container-id-2 div.sk-toggleable {background-color: white;}#sk-container-id-2 label.sk-toggleable__label {cursor: pointer;display: block;width: 100%;margin-bottom: 0;padding: 0.3em;box-sizing: border-box;text-align: center;}#sk-container-id-2 label.sk-toggleable__label-arrow:before {content: \"▸\";float: left;margin-right: 0.25em;color: #696969;}#sk-container-id-2 label.sk-toggleable__label-arrow:hover:before {color: black;}#sk-container-id-2 div.sk-estimator:hover label.sk-toggleable__label-arrow:before {color: black;}#sk-container-id-2 div.sk-toggleable__content {max-height: 0;max-width: 0;overflow: hidden;text-align: left;background-color: #f0f8ff;}#sk-container-id-2 div.sk-toggleable__content pre {margin: 0.2em;color: black;border-radius: 0.25em;background-color: #f0f8ff;}#sk-container-id-2 input.sk-toggleable__control:checked~div.sk-toggleable__content {max-height: 200px;max-width: 100%;overflow: auto;}#sk-container-id-2 input.sk-toggleable__control:checked~label.sk-toggleable__label-arrow:before {content: \"▾\";}#sk-container-id-2 div.sk-estimator input.sk-toggleable__control:checked~label.sk-toggleable__label {background-color: #d4ebff;}#sk-container-id-2 div.sk-label input.sk-toggleable__control:checked~label.sk-toggleable__label {background-color: #d4ebff;}#sk-container-id-2 input.sk-hidden--visually {border: 0;clip: rect(1px 1px 1px 1px);clip: rect(1px, 1px, 1px, 1px);height: 1px;margin: -1px;overflow: hidden;padding: 0;position: absolute;width: 1px;}#sk-container-id-2 div.sk-estimator {font-family: monospace;background-color: #f0f8ff;border: 1px dotted black;border-radius: 0.25em;box-sizing: border-box;margin-bottom: 0.5em;}#sk-container-id-2 div.sk-estimator:hover {background-color: #d4ebff;}#sk-container-id-2 div.sk-parallel-item::after {content: \"\";width: 100%;border-bottom: 1px solid gray;flex-grow: 1;}#sk-container-id-2 div.sk-label:hover label.sk-toggleable__label {background-color: #d4ebff;}#sk-container-id-2 div.sk-serial::before {content: \"\";position: absolute;border-left: 1px solid gray;box-sizing: border-box;top: 0;bottom: 0;left: 50%;z-index: 0;}#sk-container-id-2 div.sk-serial {display: flex;flex-direction: column;align-items: center;background-color: white;padding-right: 0.2em;padding-left: 0.2em;position: relative;}#sk-container-id-2 div.sk-item {position: relative;z-index: 1;}#sk-container-id-2 div.sk-parallel {display: flex;align-items: stretch;justify-content: center;background-color: white;position: relative;}#sk-container-id-2 div.sk-item::before, #sk-container-id-2 div.sk-parallel-item::before {content: \"\";position: absolute;border-left: 1px solid gray;box-sizing: border-box;top: 0;bottom: 0;left: 50%;z-index: -1;}#sk-container-id-2 div.sk-parallel-item {display: flex;flex-direction: column;z-index: 1;position: relative;background-color: white;}#sk-container-id-2 div.sk-parallel-item:first-child::after {align-self: flex-end;width: 50%;}#sk-container-id-2 div.sk-parallel-item:last-child::after {align-self: flex-start;width: 50%;}#sk-container-id-2 div.sk-parallel-item:only-child::after {width: 0;}#sk-container-id-2 div.sk-dashed-wrapped {border: 1px dashed gray;margin: 0 0.4em 0.5em 0.4em;box-sizing: border-box;padding-bottom: 0.4em;background-color: white;}#sk-container-id-2 div.sk-label label {font-family: monospace;font-weight: bold;display: inline-block;line-height: 1.2em;}#sk-container-id-2 div.sk-label-container {text-align: center;}#sk-container-id-2 div.sk-container {/* jupyter's `normalize.less` sets `[hidden] { display: none; }` but bootstrap.min.css set `[hidden] { display: none !important; }` so we also need the `!important` here to be able to override the default hidden behavior on the sphinx rendered scikit-learn.org. See: https://github.com/scikit-learn/scikit-learn/issues/21755 */display: inline-block !important;position: relative;}#sk-container-id-2 div.sk-text-repr-fallback {display: none;}</style><div id=\"sk-container-id-2\" class=\"sk-top-container\"><div class=\"sk-text-repr-fallback\"><pre>RandomForestClassifier(n_estimators=300, random_state=42)</pre><b>In a Jupyter environment, please rerun this cell to show the HTML representation or trust the notebook. <br />On GitHub, the HTML representation is unable to render, please try loading this page with nbviewer.org.</b></div><div class=\"sk-container\" hidden><div class=\"sk-item\"><div class=\"sk-estimator sk-toggleable\"><input class=\"sk-toggleable__control sk-hidden--visually\" id=\"sk-estimator-id-2\" type=\"checkbox\" checked><label for=\"sk-estimator-id-2\" class=\"sk-toggleable__label sk-toggleable__label-arrow\">RandomForestClassifier</label><div class=\"sk-toggleable__content\"><pre>RandomForestClassifier(n_estimators=300, random_state=42)</pre></div></div></div></div></div>"
      ],
      "text/plain": [
       "RandomForestClassifier(n_estimators=300, random_state=42)"
      ]
     },
     "execution_count": 35,
     "metadata": {},
     "output_type": "execute_result"
    }
   ],
   "source": [
    "rfc.fit(X_train, y_train)"
   ]
  },
  {
   "cell_type": "code",
   "execution_count": 36,
   "id": "900cf4ce",
   "metadata": {
    "execution": {
     "iopub.execute_input": "2025-02-08T16:59:51.984993Z",
     "iopub.status.busy": "2025-02-08T16:59:51.984619Z",
     "iopub.status.idle": "2025-02-08T16:59:52.122028Z",
     "shell.execute_reply": "2025-02-08T16:59:52.120903Z"
    },
    "papermill": {
     "duration": 0.158434,
     "end_time": "2025-02-08T16:59:52.123792",
     "exception": false,
     "start_time": "2025-02-08T16:59:51.965358",
     "status": "completed"
    },
    "tags": []
   },
   "outputs": [
    {
     "name": "stdout",
     "output_type": "stream",
     "text": [
      "Accuracy: 0.9914883268482491\n",
      "F1 score 0.9818746763335059\n",
      "Recall score 0.9854469854469855\n",
      "Precision score 0.978328173374613\n"
     ]
    }
   ],
   "source": [
    "y_pred = rfc.predict(X_test)\n",
    " \n",
    "print('Accuracy:', accuracy_score(y_test, y_pred))\n",
    "print('F1 score', f1_score(y_test, y_pred))\n",
    "print('Recall score',recall_score(y_test, y_pred))\n",
    "print('Precision score', precision_score(y_test, y_pred))"
   ]
  },
  {
   "cell_type": "code",
   "execution_count": 37,
   "id": "88e971d7",
   "metadata": {
    "execution": {
     "iopub.execute_input": "2025-02-08T16:59:52.159339Z",
     "iopub.status.busy": "2025-02-08T16:59:52.159012Z",
     "iopub.status.idle": "2025-02-08T16:59:52.364132Z",
     "shell.execute_reply": "2025-02-08T16:59:52.362802Z"
    },
    "papermill": {
     "duration": 0.225679,
     "end_time": "2025-02-08T16:59:52.366559",
     "exception": false,
     "start_time": "2025-02-08T16:59:52.140880",
     "status": "completed"
    },
    "tags": []
   },
   "outputs": [
    {
     "data": {
      "image/png": "[encoded data removed]",
      "text/plain": [
       "<Figure size 640x480 with 1 Axes>"
      ]
     },
     "metadata": {},
     "output_type": "display_data"
    }
   ],
   "source": [
    "feat_importances = pd.Series(rfc.feature_importances_, index=X.columns)\n",
    "feat_importances = feat_importances.sort_values(ascending=True)\n",
    "feat_importances.plot(kind='barh')\n",
    "plt.title('Feature Importance graph')\n",
    "plt.xlabel('Importances')\n",
    "plt.ylabel('Features')\n",
    "plt.show()"
   ]
  },
  {
   "cell_type": "code",
   "execution_count": 38,
   "id": "a31340dd",
   "metadata": {
    "execution": {
     "iopub.execute_input": "2025-02-08T16:59:52.425558Z",
     "iopub.status.busy": "2025-02-08T16:59:52.425193Z",
     "iopub.status.idle": "2025-02-08T16:59:55.701367Z",
     "shell.execute_reply": "2025-02-08T16:59:55.700530Z"
    },
    "papermill": {
     "duration": 3.306074,
     "end_time": "2025-02-08T16:59:55.703243",
     "exception": false,
     "start_time": "2025-02-08T16:59:52.397169",
     "status": "completed"
    },
    "tags": []
   },
   "outputs": [],
   "source": [
    "import gzip\n",
    "import pickle\n",
    "filename = 'random_forest_model.pkl.gz'\n",
    "with gzip.open(filename, 'wb') as f:\n",
    "    pickle.dump(rfc, f)    # aquí seleccionamos el modelo\n",
    "\n",
    "# Aquí probamos que sí funcione\n",
    "# Cargar el modelo comprimido\n",
    "with gzip.open(filename, 'rb') as f:\n",
    "    loaded_model = pickle.load(f)\n",
    "\n"
   ]
  },
  {
   "cell_type": "markdown",
   "id": "77190c25",
   "metadata": {
    "papermill": {
     "duration": 0.017241,
     "end_time": "2025-02-08T16:59:55.737983",
     "exception": false,
     "start_time": "2025-02-08T16:59:55.720742",
     "status": "completed"
    },
    "tags": []
   },
   "source": [
    "## 3. Decision Tree Classifier"
   ]
  },
  {
   "cell_type": "code",
   "execution_count": 39,
   "id": "31fdb796",
   "metadata": {
    "execution": {
     "iopub.execute_input": "2025-02-08T16:59:55.773744Z",
     "iopub.status.busy": "2025-02-08T16:59:55.773418Z",
     "iopub.status.idle": "2025-02-08T16:59:55.846210Z",
     "shell.execute_reply": "2025-02-08T16:59:55.845183Z"
    },
    "papermill": {
     "duration": 0.0926,
     "end_time": "2025-02-08T16:59:55.847700",
     "exception": false,
     "start_time": "2025-02-08T16:59:55.755100",
     "status": "completed"
    },
    "tags": []
   },
   "outputs": [
    {
     "name": "stdout",
     "output_type": "stream",
     "text": [
      "Accuracy: 0.9897859922178989\n",
      "F1 score 0.9781704781704782\n",
      "Recall score 0.9781704781704782\n",
      "Precision score 0.9781704781704782\n"
     ]
    }
   ],
   "source": [
    "dt = DecisionTreeClassifier(max_depth=None, random_state=0)\n",
    "dt.fit(X_train, y_train)\n",
    "y_pred = dt.predict(X_test)\n",
    "print('Accuracy:', accuracy_score(y_test, y_pred))\n",
    "print('F1 score', f1_score(y_test, y_pred))\n",
    "print('Recall score',recall_score(y_test, y_pred))\n",
    "print('Precision score', precision_score(y_test, y_pred))"
   ]
  },
  {
   "cell_type": "code",
   "execution_count": 40,
   "id": "c36c3156",
   "metadata": {
    "execution": {
     "iopub.execute_input": "2025-02-08T16:59:55.883459Z",
     "iopub.status.busy": "2025-02-08T16:59:55.883151Z",
     "iopub.status.idle": "2025-02-08T16:59:56.064761Z",
     "shell.execute_reply": "2025-02-08T16:59:56.063811Z"
    },
    "papermill": {
     "duration": 0.201198,
     "end_time": "2025-02-08T16:59:56.066386",
     "exception": false,
     "start_time": "2025-02-08T16:59:55.865188",
     "status": "completed"
    },
    "tags": []
   },
   "outputs": [
    {
     "data": {
      "image/png": "[encoded data removed]",
      "text/plain": [
       "<Figure size 640x480 with 1 Axes>"
      ]
     },
     "metadata": {},
     "output_type": "display_data"
    }
   ],
   "source": [
    "feat_importances = pd.Series(dt.feature_importances_, index=X.columns)\n",
    "feat_importances = feat_importances.sort_values(ascending=True)\n",
    "feat_importances.plot(kind='barh')\n",
    "plt.title('Feature Importance graph')\n",
    "plt.xlabel('Importances')\n",
    "plt.ylabel('Features')\n",
    "plt.show()"
   ]
  },
  {
   "cell_type": "code",
   "execution_count": 41,
   "id": "e215218a",
   "metadata": {
    "execution": {
     "iopub.execute_input": "2025-02-08T16:59:56.104254Z",
     "iopub.status.busy": "2025-02-08T16:59:56.103844Z",
     "iopub.status.idle": "2025-02-08T16:59:56.121106Z",
     "shell.execute_reply": "2025-02-08T16:59:56.120202Z"
    },
    "papermill": {
     "duration": 0.038025,
     "end_time": "2025-02-08T16:59:56.122834",
     "exception": false,
     "start_time": "2025-02-08T16:59:56.084809",
     "status": "completed"
    },
    "tags": []
   },
   "outputs": [],
   "source": [
    "\n",
    "\n",
    "import gzip\n",
    "import pickle\n",
    "filename = 'decision_tree_model.pkl.gz'\n",
    "with gzip.open(filename, 'wb') as f:\n",
    "    pickle.dump(dt, f)    # aquí seleccionamos el modelo\n",
    "\n",
    "# Aquí probamos que sí funcione\n",
    "# Cargar el modelo comprimido\n",
    "with gzip.open(filename, 'rb') as f:\n",
    "    loaded_model = pickle.load(f)"
   ]
  },
  {
   "cell_type": "markdown",
   "id": "45ba8522",
   "metadata": {
    "papermill": {
     "duration": 0.017832,
     "end_time": "2025-02-08T16:59:56.159183",
     "exception": false,
     "start_time": "2025-02-08T16:59:56.141351",
     "status": "completed"
    },
    "tags": []
   },
   "source": [
    "## 4. K-Nearest Neighbor classifier"
   ]
  },
  {
   "cell_type": "code",
   "execution_count": 42,
   "id": "6adb45f2",
   "metadata": {
    "execution": {
     "iopub.execute_input": "2025-02-08T16:59:56.196283Z",
     "iopub.status.busy": "2025-02-08T16:59:56.195978Z",
     "iopub.status.idle": "2025-02-08T16:59:58.046362Z",
     "shell.execute_reply": "2025-02-08T16:59:58.045226Z"
    },
    "papermill": {
     "duration": 1.870844,
     "end_time": "2025-02-08T16:59:58.048020",
     "exception": false,
     "start_time": "2025-02-08T16:59:56.177176",
     "status": "completed"
    },
    "tags": []
   },
   "outputs": [
    {
     "name": "stdout",
     "output_type": "stream",
     "text": [
      "Accuracy for 3 neighbors is: 0.9922178988326849\n",
      "F1 for 3 neighbors is: 0.9833679833679834\n",
      "\n",
      "Accuracy for 5 neighbors is: 0.9922178988326849\n",
      "F1 for 5 neighbors is: 0.9834368530020703\n",
      "\n",
      "Accuracy for 7 neighbors is: 0.9907587548638133\n",
      "F1 for 7 neighbors is: 0.9803516028955533\n",
      "\n",
      "Accuracy for 9 neighbors is: 0.9900291828793775\n",
      "F1 for 9 neighbors is: 0.9788332472896232\n",
      "\n",
      "Accuracy for 11 neighbors is: 0.9895428015564203\n",
      "F1 for 11 neighbors is: 0.9778236204228985\n",
      "\n",
      "Accuracy for 13 neighbors is: 0.9888132295719845\n",
      "F1 for 13 neighbors is: 0.9763130792996911\n",
      "\n",
      "Accuracy for 15 neighbors is: 0.9890564202334631\n",
      "F1 for 15 neighbors is: 0.9768637532133676\n",
      "\n"
     ]
    }
   ],
   "source": [
    "# Try different number of neighbors and see scores.\n",
    "for n in [3, 5, 7, 9, 11, 13, 15]:\n",
    "    knn = KNeighborsClassifier(n_neighbors=n)\n",
    "    knn.fit(X_train, y_train)\n",
    "    y_pred = knn.predict(X_test)\n",
    "    \n",
    "    # Evaluate the model\n",
    "    f1 = f1_score(y_test, y_pred)\n",
    "    accuracy = accuracy_score(y_test,y_pred)\n",
    "    print(f'Accuracy for {n} neighbors is: {accuracy}')\n",
    "    print(f'F1 for {n} neighbors is: {f1}')\n",
    "    print('')"
   ]
  },
  {
   "cell_type": "code",
   "execution_count": 43,
   "id": "32f72c45",
   "metadata": {
    "execution": {
     "iopub.execute_input": "2025-02-08T16:59:58.088031Z",
     "iopub.status.busy": "2025-02-08T16:59:58.087654Z",
     "iopub.status.idle": "2025-02-08T16:59:58.348865Z",
     "shell.execute_reply": "2025-02-08T16:59:58.347821Z"
    },
    "papermill": {
     "duration": 0.283311,
     "end_time": "2025-02-08T16:59:58.350527",
     "exception": false,
     "start_time": "2025-02-08T16:59:58.067216",
     "status": "completed"
    },
    "tags": []
   },
   "outputs": [
    {
     "name": "stdout",
     "output_type": "stream",
     "text": [
      "Accuracy for 7 neighbors is: 0.9907587548638133\n",
      "F1 for 7 neighbors is: 0.9803516028955533\n",
      "Recall for 7 neighbors is: 0.9854469854469855\n",
      "Precision for 7 neighbors is: 0.9753086419753086\n"
     ]
    }
   ],
   "source": [
    "# nearest neighbor=7 has highest f1 score and accuracy score. Choose 7 neighbors and run KNN\n",
    "knn = KNeighborsClassifier(n_neighbors=7)\n",
    "knn.fit(X_train, y_train)\n",
    "y_pred = knn.predict(X_test)\n",
    "f1 = f1_score(y_test, y_pred)\n",
    "recall = recall_score(y_test, y_pred)\n",
    "precision = precision_score(y_test, y_pred)\n",
    "accuracy = accuracy_score(y_test,y_pred)\n",
    "print(f'Accuracy for 7 neighbors is: {accuracy}')\n",
    "print(f'F1 for 7 neighbors is: {f1}')\n",
    "print(f'Recall for 7 neighbors is: {recall}')\n",
    "print(f'Precision for 7 neighbors is: {precision}')"
   ]
  },
  {
   "cell_type": "code",
   "execution_count": 44,
   "id": "27205db4",
   "metadata": {
    "execution": {
     "iopub.execute_input": "2025-02-08T16:59:58.389805Z",
     "iopub.status.busy": "2025-02-08T16:59:58.389382Z",
     "iopub.status.idle": "2025-02-08T17:00:11.053142Z",
     "shell.execute_reply": "2025-02-08T17:00:11.052016Z"
    },
    "papermill": {
     "duration": 12.685308,
     "end_time": "2025-02-08T17:00:11.054783",
     "exception": false,
     "start_time": "2025-02-08T16:59:58.369475",
     "status": "completed"
    },
    "tags": []
   },
   "outputs": [
    {
     "data": {
      "text/html": [
       "\n",
       "    <style>\n",
       "    table.eli5-weights tr:hover {\n",
       "        filter: brightness(85%);\n",
       "    }\n",
       "</style>\n",
       "\n",
       "\n",
       "\n",
       "    \n",
       "\n",
       "    \n",
       "\n",
       "    \n",
       "\n",
       "    \n",
       "\n",
       "    \n",
       "\n",
       "    \n",
       "\n",
       "\n",
       "    \n",
       "\n",
       "    \n",
       "\n",
       "    \n",
       "\n",
       "    \n",
       "\n",
       "    \n",
       "\n",
       "    \n",
       "\n",
       "\n",
       "    \n",
       "\n",
       "    \n",
       "\n",
       "    \n",
       "\n",
       "    \n",
       "\n",
       "    \n",
       "        <table class=\"eli5-weights eli5-feature-importances\" style=\"border-collapse: collapse; border: none; margin-top: 0em; table-layout: auto;\">\n",
       "    <thead>\n",
       "    <tr style=\"border: none;\">\n",
       "        <th style=\"padding: 0 1em 0 0.5em; text-align: right; border: none;\">Weight</th>\n",
       "        <th style=\"padding: 0 0.5em 0 0.5em; text-align: left; border: none;\">Feature</th>\n",
       "    </tr>\n",
       "    </thead>\n",
       "    <tbody>\n",
       "    \n",
       "        <tr style=\"background-color: hsl(120, 100.00%, 80.00%); border: none;\">\n",
       "            <td style=\"padding: 0 1em 0 0.5em; text-align: right; border: none;\">\n",
       "                0.2761\n",
       "                \n",
       "                    &plusmn; 0.0049\n",
       "                \n",
       "            </td>\n",
       "            <td style=\"padding: 0 0.5em 0 0.5em; text-align: left; border: none;\">\n",
       "                Light\n",
       "            </td>\n",
       "        </tr>\n",
       "    \n",
       "        <tr style=\"background-color: hsl(120, 100.00%, 94.32%); border: none;\">\n",
       "            <td style=\"padding: 0 1em 0 0.5em; text-align: right; border: none;\">\n",
       "                0.0458\n",
       "                \n",
       "                    &plusmn; 0.0037\n",
       "                \n",
       "            </td>\n",
       "            <td style=\"padding: 0 0.5em 0 0.5em; text-align: left; border: none;\">\n",
       "                weekday\n",
       "            </td>\n",
       "        </tr>\n",
       "    \n",
       "        <tr style=\"background-color: hsl(120, 100.00%, 97.42%); border: none;\">\n",
       "            <td style=\"padding: 0 1em 0 0.5em; text-align: right; border: none;\">\n",
       "                0.0148\n",
       "                \n",
       "                    &plusmn; 0.0021\n",
       "                \n",
       "            </td>\n",
       "            <td style=\"padding: 0 0.5em 0 0.5em; text-align: left; border: none;\">\n",
       "                Temperature\n",
       "            </td>\n",
       "        </tr>\n",
       "    \n",
       "        <tr style=\"background-color: hsl(120, 100.00%, 97.46%); border: none;\">\n",
       "            <td style=\"padding: 0 1em 0 0.5em; text-align: right; border: none;\">\n",
       "                0.0145\n",
       "                \n",
       "                    &plusmn; 0.0019\n",
       "                \n",
       "            </td>\n",
       "            <td style=\"padding: 0 0.5em 0 0.5em; text-align: left; border: none;\">\n",
       "                CO2\n",
       "            </td>\n",
       "        </tr>\n",
       "    \n",
       "        <tr style=\"background-color: hsl(120, 100.00%, 97.93%); border: none;\">\n",
       "            <td style=\"padding: 0 1em 0 0.5em; text-align: right; border: none;\">\n",
       "                0.0108\n",
       "                \n",
       "                    &plusmn; 0.0026\n",
       "                \n",
       "            </td>\n",
       "            <td style=\"padding: 0 0.5em 0 0.5em; text-align: left; border: none;\">\n",
       "                day\n",
       "            </td>\n",
       "        </tr>\n",
       "    \n",
       "        <tr style=\"background-color: hsl(120, 100.00%, 98.40%); border: none;\">\n",
       "            <td style=\"padding: 0 1em 0 0.5em; text-align: right; border: none;\">\n",
       "                0.0075\n",
       "                \n",
       "                    &plusmn; 0.0018\n",
       "                \n",
       "            </td>\n",
       "            <td style=\"padding: 0 0.5em 0 0.5em; text-align: left; border: none;\">\n",
       "                HumidityRatio\n",
       "            </td>\n",
       "        </tr>\n",
       "    \n",
       "        <tr style=\"background-color: hsl(120, 100.00%, 98.68%); border: none;\">\n",
       "            <td style=\"padding: 0 1em 0 0.5em; text-align: right; border: none;\">\n",
       "                0.0057\n",
       "                \n",
       "                    &plusmn; 0.0015\n",
       "                \n",
       "            </td>\n",
       "            <td style=\"padding: 0 0.5em 0 0.5em; text-align: left; border: none;\">\n",
       "                Humidity\n",
       "            </td>\n",
       "        </tr>\n",
       "    \n",
       "        <tr style=\"background-color: hsl(0, 100.00%, 100.00%); border: none;\">\n",
       "            <td style=\"padding: 0 1em 0 0.5em; text-align: right; border: none;\">\n",
       "                0\n",
       "                \n",
       "                    &plusmn; 0.0000\n",
       "                \n",
       "            </td>\n",
       "            <td style=\"padding: 0 0.5em 0 0.5em; text-align: left; border: none;\">\n",
       "                month\n",
       "            </td>\n",
       "        </tr>\n",
       "    \n",
       "        <tr style=\"background-color: hsl(0, 100.00%, 100.00%); border: none;\">\n",
       "            <td style=\"padding: 0 1em 0 0.5em; text-align: right; border: none;\">\n",
       "                0\n",
       "                \n",
       "                    &plusmn; 0.0000\n",
       "                \n",
       "            </td>\n",
       "            <td style=\"padding: 0 0.5em 0 0.5em; text-align: left; border: none;\">\n",
       "                year\n",
       "            </td>\n",
       "        </tr>\n",
       "    \n",
       "    \n",
       "    </tbody>\n",
       "</table>\n",
       "    \n",
       "\n",
       "    \n",
       "\n",
       "\n",
       "    \n",
       "\n",
       "    \n",
       "\n",
       "    \n",
       "\n",
       "    \n",
       "\n",
       "    \n",
       "\n",
       "    \n",
       "\n",
       "\n",
       "\n"
      ],
      "text/plain": [
       "<IPython.core.display.HTML object>"
      ]
     },
     "execution_count": 44,
     "metadata": {},
     "output_type": "execute_result"
    }
   ],
   "source": [
    "perm = PermutationImportance(knn, random_state=42)\n",
    "perm.fit(X_test, y_test)\n",
    "eli5.show_weights(perm, feature_names=X.columns.tolist())"
   ]
  },
  {
   "cell_type": "code",
   "execution_count": 45,
   "id": "bb5a1a48",
   "metadata": {
    "execution": {
     "iopub.execute_input": "2025-02-08T17:00:11.093974Z",
     "iopub.status.busy": "2025-02-08T17:00:11.093603Z",
     "iopub.status.idle": "2025-02-08T17:00:11.286228Z",
     "shell.execute_reply": "2025-02-08T17:00:11.285192Z"
    },
    "papermill": {
     "duration": 0.214076,
     "end_time": "2025-02-08T17:00:11.287902",
     "exception": false,
     "start_time": "2025-02-08T17:00:11.073826",
     "status": "completed"
    },
    "tags": []
   },
   "outputs": [
    {
     "data": {
      "image/png": "[encoded data removed]",
      "text/plain": [
       "<Figure size 640x480 with 1 Axes>"
      ]
     },
     "metadata": {},
     "output_type": "display_data"
    }
   ],
   "source": [
    "importances = perm.feature_importances_\n",
    "\n",
    "feat_importances = pd.Series(importances, index=X.columns)\n",
    "feat_importances = feat_importances.sort_values(ascending=True)\n",
    "feat_importances.plot(kind='barh')\n",
    "plt.title('Feature Importance graph')\n",
    "plt.xlabel('Importances')\n",
    "plt.ylabel('Features')\n",
    "plt.show()"
   ]
  },
  {
   "cell_type": "code",
   "execution_count": 46,
   "id": "35a0903d",
   "metadata": {
    "execution": {
     "iopub.execute_input": "2025-02-08T17:00:11.328595Z",
     "iopub.status.busy": "2025-02-08T17:00:11.328255Z",
     "iopub.status.idle": "2025-02-08T17:00:11.730967Z",
     "shell.execute_reply": "2025-02-08T17:00:11.730149Z"
    },
    "papermill": {
     "duration": 0.425082,
     "end_time": "2025-02-08T17:00:11.732729",
     "exception": false,
     "start_time": "2025-02-08T17:00:11.307647",
     "status": "completed"
    },
    "tags": []
   },
   "outputs": [],
   "source": [
    "\n",
    "import gzip\n",
    "import pickle\n",
    "filename = 'knn_model.pkl.gz'\n",
    "with gzip.open(filename, 'wb') as f:\n",
    "    pickle.dump(knn, f)    # aquí seleccionamos el modelo\n",
    "\n",
    "# Aquí probamos que sí funcione\n",
    "# Cargar el modelo comprimido\n",
    "with gzip.open(filename, 'rb') as f:\n",
    "    loaded_model = pickle.load(f)"
   ]
  },
  {
   "cell_type": "code",
   "execution_count": 47,
   "id": "5b9eb536",
   "metadata": {
    "execution": {
     "iopub.execute_input": "2025-02-08T17:00:11.773097Z",
     "iopub.status.busy": "2025-02-08T17:00:11.772699Z",
     "iopub.status.idle": "2025-02-08T17:00:11.778115Z",
     "shell.execute_reply": "2025-02-08T17:00:11.777275Z"
    },
    "papermill": {
     "duration": 0.027142,
     "end_time": "2025-02-08T17:00:11.779598",
     "exception": false,
     "start_time": "2025-02-08T17:00:11.752456",
     "status": "completed"
    },
    "tags": []
   },
   "outputs": [
    {
     "data": {
      "text/plain": [
       "(16448, 9)"
      ]
     },
     "execution_count": 47,
     "metadata": {},
     "output_type": "execute_result"
    }
   ],
   "source": [
    "X_train.shape"
   ]
  },
  {
   "cell_type": "code",
   "execution_count": 48,
   "id": "3d49418f",
   "metadata": {
    "execution": {
     "iopub.execute_input": "2025-02-08T17:00:11.870146Z",
     "iopub.status.busy": "2025-02-08T17:00:11.869799Z",
     "iopub.status.idle": "2025-02-08T17:00:16.578124Z",
     "shell.execute_reply": "2025-02-08T17:00:16.577035Z"
    },
    "papermill": {
     "duration": 4.730182,
     "end_time": "2025-02-08T17:00:16.580003",
     "exception": false,
     "start_time": "2025-02-08T17:00:11.849821",
     "status": "completed"
    },
    "tags": []
   },
   "outputs": [],
   "source": [
    "# Define the keras model and train on training data\n",
    "# RNN with 4 layers :- \n",
    "# Input Layer: This is implicitly defined by the input_shape parameter in the first Dense layer.\n",
    "# First Dense Layer: Dense(32, input_shape=(input_dim,), activation='relu')\n",
    "# Second Dense Layer: Dense(16, activation='relu')\n",
    "# Output Layer: Dense(1, activation='sigmoid')\n",
    "\n",
    "model = Sequential()\n",
    "model.add(Dense(32, input_shape=(X_train.shape[1],), activation='relu'))\n",
    "model.add(Dense(16, activation='relu'))\n",
    "model.add(Dense(1, activation='sigmoid'))\n",
    "\n",
    "\n",
    "model.compile(loss='binary_crossentropy', optimizer='adam', metrics=['accuracy'])\n",
    "\n",
    "clf = model.fit(X_train, y_train, epochs=50, batch_size=500, verbose=0) \n",
    "# verbose=0 will not show each step in training(i.e. each epoch's accuracy and loss)\n"
   ]
  },
  {
   "cell_type": "code",
   "execution_count": 49,
   "id": "d5003a9d",
   "metadata": {
    "execution": {
     "iopub.execute_input": "2025-02-08T17:00:16.621876Z",
     "iopub.status.busy": "2025-02-08T17:00:16.621520Z",
     "iopub.status.idle": "2025-02-08T17:00:16.990455Z",
     "shell.execute_reply": "2025-02-08T17:00:16.989386Z"
    },
    "papermill": {
     "duration": 0.391809,
     "end_time": "2025-02-08T17:00:16.992162",
     "exception": false,
     "start_time": "2025-02-08T17:00:16.600353",
     "status": "completed"
    },
    "tags": []
   },
   "outputs": [
    {
     "data": {
      "image/png": "[encoded data removed]",
      "text/plain": [
       "<Figure size 1000x300 with 2 Axes>"
      ]
     },
     "metadata": {},
     "output_type": "display_data"
    }
   ],
   "source": [
    "# Get the summary/history of epochs\n",
    "accuracy = clf.history['accuracy']\n",
    "loss = clf.history['loss']\n",
    "\n",
    "# Plot the loss and accuracy on graph to see visually\n",
    "fig, axes = plt.subplots(1,2, figsize=(10,3)) \n",
    "sns.lineplot(accuracy, marker='o', ax=axes[0])\n",
    "sns.lineplot(loss, marker='o', ax=axes[1])\n",
    "axes[0].set_title('Accuracy')\n",
    "axes[1].set_title('Loss')\n",
    "plt.show()"
   ]
  },
  {
   "cell_type": "code",
   "execution_count": 50,
   "id": "3604d095",
   "metadata": {
    "execution": {
     "iopub.execute_input": "2025-02-08T17:00:17.033889Z",
     "iopub.status.busy": "2025-02-08T17:00:17.033538Z",
     "iopub.status.idle": "2025-02-08T17:00:17.152634Z",
     "shell.execute_reply": "2025-02-08T17:00:17.151667Z"
    },
    "papermill": {
     "duration": 0.141661,
     "end_time": "2025-02-08T17:00:17.154345",
     "exception": false,
     "start_time": "2025-02-08T17:00:17.012684",
     "status": "completed"
    },
    "tags": []
   },
   "outputs": [],
   "source": [
    "\n",
    "import gzip\n",
    "import pickle\n",
    "filename = 'keras_model.pkl.gz'\n",
    "with gzip.open(filename, 'wb') as f:\n",
    "    pickle.dump(model, f)    # aquí seleccionamos el modelo\n",
    "\n",
    "# Aquí probamos que sí funcione\n",
    "# Cargar el modelo comprimido\n",
    "with gzip.open(filename, 'rb') as f:\n",
    "    loaded_model = pickle.load(f)"
   ]
  },
  {
   "cell_type": "code",
   "execution_count": 51,
   "id": "d91861bf",
   "metadata": {
    "execution": {
     "iopub.execute_input": "2025-02-08T17:00:17.195906Z",
     "iopub.status.busy": "2025-02-08T17:00:17.195562Z",
     "iopub.status.idle": "2025-02-08T17:00:17.511422Z",
     "shell.execute_reply": "2025-02-08T17:00:17.510398Z"
    },
    "papermill": {
     "duration": 0.338437,
     "end_time": "2025-02-08T17:00:17.513109",
     "exception": false,
     "start_time": "2025-02-08T17:00:17.174672",
     "status": "completed"
    },
    "tags": []
   },
   "outputs": [
    {
     "name": "stdout",
     "output_type": "stream",
     "text": [
      "\u001b[1m129/129\u001b[0m \u001b[32m━━━━━━━━━━━━━━━━━━━━\u001b[0m\u001b[37m\u001b[0m \u001b[1m0s\u001b[0m 1ms/step - accuracy: 0.9911 - loss: 0.0379\n",
      "Accuracy of model on test data: 99.0 %\n"
     ]
    }
   ],
   "source": [
    "# Evaluate the model on test set\n",
    "_, accuracy = model.evaluate(X_test, y_test)\n",
    "print('Accuracy of model on test data:', round((accuracy*100),2),'%')"
   ]
  },
  {
   "cell_type": "code",
   "execution_count": 52,
   "id": "7672fb66",
   "metadata": {
    "execution": {
     "iopub.execute_input": "2025-02-08T17:00:17.555324Z",
     "iopub.status.busy": "2025-02-08T17:00:17.554965Z",
     "iopub.status.idle": "2025-02-08T17:00:47.935015Z",
     "shell.execute_reply": "2025-02-08T17:00:47.933988Z"
    },
    "papermill": {
     "duration": 30.436439,
     "end_time": "2025-02-08T17:00:47.970113",
     "exception": false,
     "start_time": "2025-02-08T17:00:17.533674",
     "status": "completed"
    },
    "tags": []
   },
   "outputs": [
    {
     "name": "stderr",
     "output_type": "stream",
     "text": [
      "\u001b[34m\u001b[1mwandb\u001b[0m: Using wandb-core as the SDK backend.  Please refer to https://wandb.me/wandb-core for more information.\n",
      "\u001b[34m\u001b[1mwandb\u001b[0m: Currently logged in as: \u001b[33mjuanpablonore\u001b[0m (\u001b[33mjuanpablonore-universidad-nacional-de-colombia\u001b[0m). Use \u001b[1m`wandb login --relogin`\u001b[0m to force relogin\n",
      "\u001b[34m\u001b[1mwandb\u001b[0m: \u001b[33mWARNING\u001b[0m If you're specifying your api key in code, ensure this code is not shared publicly.\n",
      "\u001b[34m\u001b[1mwandb\u001b[0m: \u001b[33mWARNING\u001b[0m Consider setting the WANDB_API_KEY environment variable, or running `wandb login` from the command line.\n",
      "\u001b[34m\u001b[1mwandb\u001b[0m: Appending key for api.wandb.ai to your netrc file: /root/.netrc\n"
     ]
    },
    {
     "name": "stdout",
     "output_type": "stream",
     "text": [
      "Create sweep with ID: jclf2qq8\n",
      "Sweep URL: https://wandb.ai/juanpablonore-universidad-nacional-de-colombia/prueba_occupancy/sweeps/jclf2qq8\n"
     ]
    },
    {
     "name": "stderr",
     "output_type": "stream",
     "text": [
      "\u001b[34m\u001b[1mwandb\u001b[0m: Agent Starting Run: 1qj2hvxp with config:\n",
      "\u001b[34m\u001b[1mwandb\u001b[0m: \tactivation: relu\n",
      "\u001b[34m\u001b[1mwandb\u001b[0m: \tbatch_size: 24\n",
      "\u001b[34m\u001b[1mwandb\u001b[0m: \tdepth: 1\n",
      "\u001b[34m\u001b[1mwandb\u001b[0m: \tepochs: 6\n",
      "\u001b[34m\u001b[1mwandb\u001b[0m: \tlearning_rate: 0.000301946264609411\n",
      "\u001b[34m\u001b[1mwandb\u001b[0m: \tnum_units: 192\n",
      "\u001b[34m\u001b[1mwandb\u001b[0m: \toptimizer: rmsprop\n",
      "\u001b[34m\u001b[1mwandb\u001b[0m: \u001b[33mWARNING\u001b[0m WandbCallback is deprecated and will be removed in a future release. Please use the WandbMetricsLogger, WandbModelCheckpoint, and WandbEvalCallback callbacks instead. See https://docs.wandb.ai/guides/integrations/keras for more information.\n",
      "\u001b[34m\u001b[1mwandb\u001b[0m: \u001b[33mWARNING\u001b[0m The save_model argument by default saves the model in the HDF5 format that cannot save custom objects like subclassed models and custom layers. This behavior will be deprecated in a future release in favor of the SavedModel format. Meanwhile, the HDF5 model is saved as W&B files and the SavedModel as W&B Artifacts.\n"
     ]
    },
    {
     "name": "stdout",
     "output_type": "stream",
     "text": [
      "Epoch 1/6\n",
      "\u001b[1m686/686\u001b[0m \u001b[32m━━━━━━━━━━━━━━━━━━━━\u001b[0m\u001b[37m\u001b[0m \u001b[1m2s\u001b[0m 2ms/step - accuracy: 0.7548 - loss: 1.1167 - val_accuracy: 0.9326 - val_loss: 0.2048\n",
      "Epoch 2/6\n",
      "\u001b[1m686/686\u001b[0m \u001b[32m━━━━━━━━━━━━━━━━━━━━\u001b[0m\u001b[37m\u001b[0m \u001b[1m1s\u001b[0m 1ms/step - accuracy: 0.9503 - loss: 0.1673 - val_accuracy: 0.9774 - val_loss: 0.0937\n",
      "Epoch 3/6\n",
      "\u001b[1m686/686\u001b[0m \u001b[32m━━━━━━━━━━━━━━━━━━━━\u001b[0m\u001b[37m\u001b[0m \u001b[1m1s\u001b[0m 2ms/step - accuracy: 0.9798 - loss: 0.0849 - val_accuracy: 0.9888 - val_loss: 0.0602\n",
      "Epoch 4/6\n",
      "\u001b[1m686/686\u001b[0m \u001b[32m━━━━━━━━━━━━━━━━━━━━\u001b[0m\u001b[37m\u001b[0m \u001b[1m1s\u001b[0m 2ms/step - accuracy: 0.9873 - loss: 0.0648 - val_accuracy: 0.9932 - val_loss: 0.0436\n",
      "Epoch 5/6\n",
      "\u001b[1m686/686\u001b[0m \u001b[32m━━━━━━━━━━━━━━━━━━━━\u001b[0m\u001b[37m\u001b[0m \u001b[1m1s\u001b[0m 1ms/step - accuracy: 0.9899 - loss: 0.0508 - val_accuracy: 0.9929 - val_loss: 0.0384\n",
      "Epoch 6/6\n",
      "\u001b[1m686/686\u001b[0m \u001b[32m━━━━━━━━━━━━━━━━━━━━\u001b[0m\u001b[37m\u001b[0m \u001b[1m1s\u001b[0m 1ms/step - accuracy: 0.9883 - loss: 0.0560 - val_accuracy: 0.9929 - val_loss: 0.0362\n"
     ]
    },
    {
     "name": "stderr",
     "output_type": "stream",
     "text": [
      "\u001b[34m\u001b[1mwandb\u001b[0m:                                                                                \n",
      "\u001b[34m\u001b[1mwandb\u001b[0m: Agent Starting Run: w9n9d27v with config:\n",
      "\u001b[34m\u001b[1mwandb\u001b[0m: \tactivation: tanh\n",
      "\u001b[34m\u001b[1mwandb\u001b[0m: \tbatch_size: -24\n",
      "\u001b[34m\u001b[1mwandb\u001b[0m: \tdepth: 4\n",
      "\u001b[34m\u001b[1mwandb\u001b[0m: \tepochs: 6\n",
      "\u001b[34m\u001b[1mwandb\u001b[0m: \tlearning_rate: 0.00954657683354044\n",
      "\u001b[34m\u001b[1mwandb\u001b[0m: \tnum_units: 80\n",
      "\u001b[34m\u001b[1mwandb\u001b[0m: \toptimizer: rmsprop\n",
      "\u001b[34m\u001b[1mwandb\u001b[0m:                                                                                \n",
      "Run w9n9d27v errored:\n",
      "Traceback (most recent call last):\n",
      "  File \"/usr/local/lib/python3.10/dist-packages/wandb/agents/pyagent.py\", line 306, in _run_job\n",
      "    self._function()\n",
      "  File \"<ipython-input-52-2ba9bb8d96ce>\", line 75, in train\n",
      "    history = model.fit(\n",
      "  File \"/usr/local/lib/python3.10/dist-packages/keras/src/utils/traceback_utils.py\", line 122, in error_handler\n",
      "    raise e.with_traceback(filtered_tb) from None\n",
      "  File \"/usr/local/lib/python3.10/dist-packages/tensorflow/python/framework/ops.py\", line 1037, in _create_c_op\n",
      "    raise ValueError(e.message)\n",
      "ValueError: Invalid value in tensor used for shape: -686\n",
      "\n",
      "\u001b[34m\u001b[1mwandb\u001b[0m: \u001b[32m\u001b[41mERROR\u001b[0m Run w9n9d27v errored:\n",
      "\u001b[34m\u001b[1mwandb\u001b[0m: \u001b[32m\u001b[41mERROR\u001b[0m Traceback (most recent call last):\n",
      "\u001b[34m\u001b[1mwandb\u001b[0m: \u001b[32m\u001b[41mERROR\u001b[0m   File \"/usr/local/lib/python3.10/dist-packages/wandb/agents/pyagent.py\", line 306, in _run_job\n",
      "\u001b[34m\u001b[1mwandb\u001b[0m: \u001b[32m\u001b[41mERROR\u001b[0m     self._function()\n",
      "\u001b[34m\u001b[1mwandb\u001b[0m: \u001b[32m\u001b[41mERROR\u001b[0m   File \"<ipython-input-52-2ba9bb8d96ce>\", line 75, in train\n",
      "\u001b[34m\u001b[1mwandb\u001b[0m: \u001b[32m\u001b[41mERROR\u001b[0m     history = model.fit(\n",
      "\u001b[34m\u001b[1mwandb\u001b[0m: \u001b[32m\u001b[41mERROR\u001b[0m   File \"/usr/local/lib/python3.10/dist-packages/keras/src/utils/traceback_utils.py\", line 122, in error_handler\n",
      "\u001b[34m\u001b[1mwandb\u001b[0m: \u001b[32m\u001b[41mERROR\u001b[0m     raise e.with_traceback(filtered_tb) from None\n",
      "\u001b[34m\u001b[1mwandb\u001b[0m: \u001b[32m\u001b[41mERROR\u001b[0m   File \"/usr/local/lib/python3.10/dist-packages/tensorflow/python/framework/ops.py\", line 1037, in _create_c_op\n",
      "\u001b[34m\u001b[1mwandb\u001b[0m: \u001b[32m\u001b[41mERROR\u001b[0m     raise ValueError(e.message)\n",
      "\u001b[34m\u001b[1mwandb\u001b[0m: \u001b[32m\u001b[41mERROR\u001b[0m ValueError: Invalid value in tensor used for shape: -686\n",
      "\u001b[34m\u001b[1mwandb\u001b[0m: \u001b[32m\u001b[41mERROR\u001b[0m \n",
      "\u001b[34m\u001b[1mwandb\u001b[0m: Agent Starting Run: vyid02ii with config:\n",
      "\u001b[34m\u001b[1mwandb\u001b[0m: \tactivation: sigmoid\n",
      "\u001b[34m\u001b[1mwandb\u001b[0m: \tbatch_size: 56\n",
      "\u001b[34m\u001b[1mwandb\u001b[0m: \tdepth: 3\n",
      "\u001b[34m\u001b[1mwandb\u001b[0m: \tepochs: 5\n",
      "\u001b[34m\u001b[1mwandb\u001b[0m: \tlearning_rate: 0.0008682365266553822\n",
      "\u001b[34m\u001b[1mwandb\u001b[0m: \tnum_units: 144\n",
      "\u001b[34m\u001b[1mwandb\u001b[0m: \toptimizer: sgd\n"
     ]
    },
    {
     "name": "stdout",
     "output_type": "stream",
     "text": [
      "Epoch 1/5\n",
      "\u001b[1m294/294\u001b[0m \u001b[32m━━━━━━━━━━━━━━━━━━━━\u001b[0m\u001b[37m\u001b[0m \u001b[1m1s\u001b[0m 3ms/step - accuracy: 0.7704 - loss: 1.3641 - val_accuracy: 0.7714 - val_loss: 0.7513\n",
      "Epoch 2/5\n",
      "\u001b[1m294/294\u001b[0m \u001b[32m━━━━━━━━━━━━━━━━━━━━\u001b[0m\u001b[37m\u001b[0m \u001b[1m1s\u001b[0m 2ms/step - accuracy: 0.7678 - loss: 0.7174 - val_accuracy: 0.7714 - val_loss: 0.6358\n",
      "Epoch 3/5\n",
      "\u001b[1m294/294\u001b[0m \u001b[32m━━━━━━━━━━━━━━━━━━━━\u001b[0m\u001b[37m\u001b[0m \u001b[1m1s\u001b[0m 2ms/step - accuracy: 0.7607 - loss: 0.6384 - val_accuracy: 0.7714 - val_loss: 0.5985\n",
      "Epoch 4/5\n",
      "\u001b[1m294/294\u001b[0m \u001b[32m━━━━━━━━━━━━━━━━━━━━\u001b[0m\u001b[37m\u001b[0m \u001b[1m1s\u001b[0m 2ms/step - accuracy: 0.7707 - loss: 0.5940 - val_accuracy: 0.7714 - val_loss: 0.5808\n",
      "Epoch 5/5\n",
      "\u001b[1m294/294\u001b[0m \u001b[32m━━━━━━━━━━━━━━━━━━━━\u001b[0m\u001b[37m\u001b[0m \u001b[1m1s\u001b[0m 2ms/step - accuracy: 0.7723 - loss: 0.5769 - val_accuracy: 0.7714 - val_loss: 0.5710\n"
     ]
    },
    {
     "name": "stderr",
     "output_type": "stream",
     "text": [
      "\u001b[34m\u001b[1mwandb\u001b[0m:                                                                                \n"
     ]
    },
    {
     "name": "stdout",
     "output_type": "stream",
     "text": [
      " Sweeps completados. Revisa los resultados en: https://wandb.ai\n"
     ]
    }
   ],
   "source": [
    "# 1️ Instalación automática de wandb si no está instalado\n",
    "import warnings\n",
    "warnings.filterwarnings(\"ignore\", category=UserWarning)\n",
    "\n",
    "try:\n",
    "    import wandb\n",
    "except ImportError:\n",
    "    !pip install wandb\n",
    "    import wandb\n",
    "\n",
    "#  2️Iniciar sesión con API Key (sin intervención manual)\n",
    "wandb.login(key=\"b716e94c63bf46b77de0a98d87adcedb6c4bfb70\")  #  Reemplaza con tu clave real\n",
    "\n",
    "# 3️Cargar dependencias necesarias\n",
    "from wandb.integration.keras import WandbCallback\n",
    "import tensorflow as tf\n",
    "from tensorflow import keras\n",
    "from tensorflow.keras import layers\n",
    "\n",
    "\n",
    "# 4️ Cargar y normalizar datos MNIST\n",
    "#(x_train, y_train), (x_test, y_test) = keras.datasets.mnist.load_data()\n",
    "#x_train, x_test = x_train / 255.0, x_test / 255.0\n",
    "X_train, X_test, y_train, y_test = train_test_split(X_scaled, y, test_size=0.2)\n",
    "\n",
    "# 5️ Definir configuración del Sweep con q_normal en batch_size\n",
    "sweep_config = {\n",
    "    \"method\": \"random\",  # Métodos: \"grid\", \"random\", \"bayes\"\n",
    "    \"metric\": {\"name\": \"val_loss\", \"goal\": \"minimize\"},  # Minimizar val_loss\n",
    "    \"parameters\": {\n",
    "        \"epochs\": {\"distribution\": \"int_uniform\", \"min\": 5, \"max\": 6},\n",
    "        \"batch_size\": {\"distribution\": \"q_normal\", \"mu\": 64, \"sigma\": 32, \"q\": 8},\n",
    "        \"learning_rate\": {\"distribution\": \"log_uniform_values\", \"min\": 0.0001, \"max\": 0.1},\n",
    "        \"num_units\": {\"distribution\": \"q_normal\", \"mu\": 128, \"sigma\": 32, \"q\": 16},  #  Media 128, sigma 32, paso 16\n",
    "        \"depth\": {\"distribution\": \"int_uniform\", \"min\": 1, \"max\": 5},  #  Número de capas ocultas aleatorio\n",
    "        \"activation\": {\"values\": [\"relu\", \"tanh\", \"sigmoid\"]},  #  Valores discretos\n",
    "        \"optimizer\": {\"values\": [\"adam\", \"sgd\", \"rmsprop\"]}  # Valores discretos\n",
    "    }\n",
    "}\n",
    "\n",
    "project_name= \"prueba_occupancy\"\n",
    "\n",
    "# 6️ Crear el Sweep en wandb sin logs innecesarios\n",
    "sweep_id = wandb.sweep(sweep_config, project=project_name)\n",
    "\n",
    "# 7️ Definir la función de entrenamiento\n",
    "def train():\n",
    "    wandb.init(settings=wandb.Settings(_disable_stats=True, silent=True))  #  Desactivar logs de wandb\n",
    "    config = wandb.config  # Obtener los hiperparámetros del Sweep\n",
    "\n",
    "    # Construcción del modelo sin Dropout\n",
    "    model = keras.Sequential([layers.Flatten(input_shape=(9,))])\n",
    "    for _ in range(config.depth):\n",
    "        model.add(layers.Dense(config.num_units, activation=config.activation))  #  Activación configurable\n",
    "    model.add(layers.Dense(10, activation=\"softmax\"))\n",
    "\n",
    "    optimizer = {\n",
    "        \"adam\": keras.optimizers.Adam(learning_rate=config.learning_rate),\n",
    "        \"sgd\": keras.optimizers.SGD(learning_rate=config.learning_rate),\n",
    "        \"rmsprop\": keras.optimizers.RMSprop(learning_rate=config.learning_rate)\n",
    "    }[config.optimizer]\n",
    "\n",
    "    model.compile(\n",
    "        optimizer=optimizer,\n",
    "        loss='sparse_categorical_crossentropy',\n",
    "        metrics=['accuracy']\n",
    "    )\n",
    "\n",
    "    # Evitar el guardado del modelo en WandB\n",
    "    class CustomWandbCallback(WandbCallback):\n",
    "        def _save_model_as_artifact(self, *args, **kwargs):\n",
    "            pass  #  Desactiva el guardado automático del modelo\n",
    "\n",
    "    # Entrenar el modelo sin verbose\n",
    "    history = model.fit(\n",
    "        X_train, y_train,\n",
    "        epochs=config.epochs,\n",
    "        batch_size=config.batch_size,\n",
    "        validation_data=(X_test, y_test),\n",
    "        verbose=1,  #  Desactiva verbose de Keras\n",
    "        callbacks=[CustomWandbCallback(log_model=False, save_graph=False, save_code=False)]\n",
    "    )\n",
    "\n",
    "    # Evaluar el modelo sin verbose\n",
    "    test_loss, test_acc = model.evaluate(X_test, y_test, verbose=0)  #  Desactiva verbose\n",
    "\n",
    "    # Registrar métricas adicionales\n",
    "    wandb.log({\n",
    "        \"test_accuracy\": test_acc,\n",
    "        \"test_loss\": test_loss,\n",
    "        \"epochs\": config.epochs,\n",
    "        \"batch_size\": config.batch_size,  # Ahora batch_size se genera con q_normal\n",
    "        \"learning_rate\": config.learning_rate,\n",
    "        \"num_units\": config.num_units,\n",
    "        \"depth\": config.depth,\n",
    "        \"activation\": config.activation,\n",
    "        \"optimizer\": config.optimizer\n",
    "    })\n",
    "    wandb.finish()  # Finalizar experimento\n",
    "# 8️ Ejecutar el Sweep sin logs innecesarios\n",
    "wandb.agent(sweep_id, function=train, count=3)  #  Desactivar logs de wandb.agent\n",
    "print(\" Sweeps completados. Revisa los resultados en: https://wandb.ai\")\n"
   ]
  },
  {
   "cell_type": "code",
   "execution_count": 53,
   "id": "f14338ec",
   "metadata": {
    "execution": {
     "iopub.execute_input": "2025-02-08T17:00:48.037137Z",
     "iopub.status.busy": "2025-02-08T17:00:48.036739Z",
     "iopub.status.idle": "2025-02-08T17:00:49.347045Z",
     "shell.execute_reply": "2025-02-08T17:00:49.345853Z"
    },
    "papermill": {
     "duration": 1.346353,
     "end_time": "2025-02-08T17:00:49.348623",
     "exception": false,
     "start_time": "2025-02-08T17:00:48.002270",
     "status": "completed"
    },
    "tags": []
   },
   "outputs": [
    {
     "name": "stderr",
     "output_type": "stream",
     "text": [
      "\u001b[34m\u001b[1mwandb\u001b[0m: \u001b[33mWARNING\u001b[0m Changes to your `wandb` environment variables will be ignored because your `wandb` session has already started. For more information on how to modify your settings with `wandb.init()` arguments, please refer to \u001b[34m\u001b[4mhttps://wandb.me/wandb-init\u001b[0m.\n",
      "\u001b[34m\u001b[1mwandb\u001b[0m: Tracking run with wandb version 0.19.1\n",
      "\u001b[34m\u001b[1mwandb\u001b[0m: Run data is saved locally in \u001b[35m\u001b[1m/kaggle/working/wandb/run-20250208_170048-vyid02ii\u001b[0m\n",
      "\u001b[34m\u001b[1mwandb\u001b[0m: Run \u001b[1m`wandb offline`\u001b[0m to turn off syncing.\n",
      "\u001b[34m\u001b[1mwandb\u001b[0m: Syncing run \u001b[33myouthful-sweep-3\u001b[0m\n",
      "\u001b[34m\u001b[1mwandb\u001b[0m: ⭐️ View project at \u001b[34m\u001b[4mhttps://wandb.ai/juanpablonore-universidad-nacional-de-colombia/prueba_occupancy\u001b[0m\n",
      "\u001b[34m\u001b[1mwandb\u001b[0m: 🧹 View sweep at \u001b[34m\u001b[4mhttps://wandb.ai/juanpablonore-universidad-nacional-de-colombia/prueba_occupancy/sweeps/jclf2qq8\u001b[0m\n",
      "\u001b[34m\u001b[1mwandb\u001b[0m: 🚀 View run at \u001b[34m\u001b[4mhttps://wandb.ai/juanpablonore-universidad-nacional-de-colombia/prueba_occupancy/runs/vyid02ii\u001b[0m\n"
     ]
    },
    {
     "name": "stdout",
     "output_type": "stream",
     "text": [
      "Proyectos disponibles: ['prueba_occupancy', 'mnist']\n",
      "True\n",
      "True\n",
      "True\n",
      "True\n",
      "True\n",
      "True\n",
      "True\n",
      "True\n",
      "True\n",
      "True\n",
      "True\n",
      "True\n",
      "True\n",
      "True\n",
      "True\n",
      "True\n",
      "True\n",
      "True\n",
      "Mejores hiperparámetros encontrados: {'depth': 1, 'epochs': 6, 'num_units': 192, 'optimizer': 'rmsprop', 'activation': 'relu', 'batch_size': 24, 'learning_rate': 0.000301946264609411}\n"
     ]
    }
   ],
   "source": [
    "# veamos los modelos que se entrenaron\n",
    "wandb.init()\n",
    "\n",
    "api = wandb.Api()\n",
    "\n",
    "# Obtener la lista de proyectos\n",
    "projects = api.projects()\n",
    "print(\"Proyectos disponibles:\", [p.name for p in projects])\n",
    "\n",
    "# Obtener todas las ejecuciones del proyecto\n",
    "runs = api.runs(f\"{wandb.run.entity}/{project_name}\")\n",
    "\n",
    "# Encontrar la mejor ejecución basada en la menor val_loss\n",
    "best_run = min(runs, key=lambda run: run.summary.get(\"val_loss\", float(\"inf\")))\n",
    "\n",
    "# Obtener los mejores hiperparámetros\n",
    "best_hyperparams = best_run.config\n",
    "print(\"Mejores hiperparámetros encontrados:\", best_hyperparams)\n"
   ]
  },
  {
   "cell_type": "code",
   "execution_count": 54,
   "id": "9452edf6",
   "metadata": {
    "execution": {
     "iopub.execute_input": "2025-02-08T17:00:49.416835Z",
     "iopub.status.busy": "2025-02-08T17:00:49.416460Z",
     "iopub.status.idle": "2025-02-08T17:00:56.478236Z",
     "shell.execute_reply": "2025-02-08T17:00:56.477332Z"
    },
    "papermill": {
     "duration": 7.096947,
     "end_time": "2025-02-08T17:00:56.479526",
     "exception": false,
     "start_time": "2025-02-08T17:00:49.382579",
     "status": "completed"
    },
    "tags": []
   },
   "outputs": [
    {
     "name": "stdout",
     "output_type": "stream",
     "text": [
      "Epoch 1/6\n",
      "\u001b[1m686/686\u001b[0m \u001b[32m━━━━━━━━━━━━━━━━━━━━\u001b[0m\u001b[37m\u001b[0m \u001b[1m2s\u001b[0m 2ms/step - accuracy: 0.7577 - loss: 1.0704 - val_accuracy: 0.9382 - val_loss: 0.1999\n",
      "Epoch 2/6\n",
      "\u001b[1m686/686\u001b[0m \u001b[32m━━━━━━━━━━━━━━━━━━━━\u001b[0m\u001b[37m\u001b[0m \u001b[1m1s\u001b[0m 1ms/step - accuracy: 0.9558 - loss: 0.1594 - val_accuracy: 0.9793 - val_loss: 0.0890\n",
      "Epoch 3/6\n",
      "\u001b[1m686/686\u001b[0m \u001b[32m━━━━━━━━━━━━━━━━━━━━\u001b[0m\u001b[37m\u001b[0m \u001b[1m1s\u001b[0m 1ms/step - accuracy: 0.9787 - loss: 0.0884 - val_accuracy: 0.9920 - val_loss: 0.0558\n",
      "Epoch 4/6\n",
      "\u001b[1m686/686\u001b[0m \u001b[32m━━━━━━━━━━━━━━━━━━━━\u001b[0m\u001b[37m\u001b[0m \u001b[1m1s\u001b[0m 2ms/step - accuracy: 0.9889 - loss: 0.0600 - val_accuracy: 0.9932 - val_loss: 0.0441\n",
      "Epoch 5/6\n",
      "\u001b[1m686/686\u001b[0m \u001b[32m━━━━━━━━━━━━━━━━━━━━\u001b[0m\u001b[37m\u001b[0m \u001b[1m1s\u001b[0m 2ms/step - accuracy: 0.9899 - loss: 0.0518 - val_accuracy: 0.9932 - val_loss: 0.0407\n",
      "Epoch 6/6\n",
      "\u001b[1m686/686\u001b[0m \u001b[32m━━━━━━━━━━━━━━━━━━━━\u001b[0m\u001b[37m\u001b[0m \u001b[1m1s\u001b[0m 1ms/step - accuracy: 0.9897 - loss: 0.0505 - val_accuracy: 0.9932 - val_loss: 0.0373\n"
     ]
    },
    {
     "data": {
      "text/plain": [
       "<keras.src.callbacks.history.History at 0x7990e4809b40>"
      ]
     },
     "execution_count": 54,
     "metadata": {},
     "output_type": "execute_result"
    }
   ],
   "source": [
    "import tensorflow as tf\n",
    "from tensorflow import keras\n",
    "from tensorflow.keras import layers\n",
    "import pickle\n",
    "import numpy as np\n",
    "\n",
    "# Construcción del modelo con los mejores hiperparámetros\n",
    "model = keras.Sequential([layers.Flatten(input_shape=(9,))])\n",
    "for _ in range(best_hyperparams[\"depth\"]):\n",
    "    model.add(layers.Dense(best_hyperparams[\"num_units\"], activation=best_hyperparams[\"activation\"]))\n",
    "model.add(layers.Dense(10, activation=\"softmax\"))\n",
    "\n",
    "# Definir optimizador\n",
    "optimizer = {\n",
    "    \"adam\": keras.optimizers.Adam(learning_rate=best_hyperparams[\"learning_rate\"]),\n",
    "    \"sgd\": keras.optimizers.SGD(learning_rate=best_hyperparams[\"learning_rate\"]),\n",
    "    \"rmsprop\": keras.optimizers.RMSprop(learning_rate=best_hyperparams[\"learning_rate\"])\n",
    "}[best_hyperparams[\"optimizer\"]]\n",
    "\n",
    "# Compilar modelo\n",
    "model.compile(\n",
    "    optimizer=optimizer,\n",
    "    loss='sparse_categorical_crossentropy',\n",
    "    metrics=['accuracy']\n",
    ")\n",
    "\n",
    "# Entrenar modelo\n",
    "model.fit(\n",
    "    X_train, y_train,\n",
    "    epochs=best_hyperparams[\"epochs\"],\n",
    "    batch_size=best_hyperparams[\"batch_size\"],\n",
    "    validation_data=(X_test, y_test),\n",
    "    verbose=1\n",
    ")"
   ]
  },
  {
   "cell_type": "code",
   "execution_count": 55,
   "id": "e009b3c4",
   "metadata": {
    "execution": {
     "iopub.execute_input": "2025-02-08T17:00:56.559725Z",
     "iopub.status.busy": "2025-02-08T17:00:56.559373Z",
     "iopub.status.idle": "2025-02-08T17:00:57.107992Z",
     "shell.execute_reply": "2025-02-08T17:00:57.106903Z"
    },
    "papermill": {
     "duration": 0.589981,
     "end_time": "2025-02-08T17:00:57.109782",
     "exception": false,
     "start_time": "2025-02-08T17:00:56.519801",
     "status": "completed"
    },
    "tags": []
   },
   "outputs": [
    {
     "name": "stdout",
     "output_type": "stream",
     "text": [
      "\u001b[1m129/129\u001b[0m \u001b[32m━━━━━━━━━━━━━━━━━━━━\u001b[0m\u001b[37m\u001b[0m \u001b[1m0s\u001b[0m 1ms/step - accuracy: 0.9959 - loss: 0.0295\n",
      "Accuracy del modelo cargado: 0.9931906461715698\n"
     ]
    }
   ],
   "source": [
    "import gzip\n",
    "import pickle\n",
    "\n",
    "# best_model\n",
    "# Guardar el modelo comprimido\n",
    "filename = 'best_model.pkl.gz'\n",
    "with gzip.open(filename, 'wb') as f:\n",
    "    pickle.dump(model, f)\n",
    "\n",
    "# Cargar el modelo comprimido\n",
    "with gzip.open(filename, 'rb') as f:\n",
    "    loaded_model = pickle.load(f)\n",
    "\n",
    "# Evaluar el modelo cargado\n",
    "result = loaded_model.evaluate(X_test, y_test)\n",
    "print(f\"Accuracy del modelo cargado: {result[-1]}\")"
   ]
  }
 ],
 "metadata": {
  "kaggle": {
   "accelerator": "none",
   "dataSources": [
    {
     "datasetId": 6454336,
     "sourceId": 10414200,
     "sourceType": "datasetVersion"
    }
   ],
   "dockerImageVersionId": 30839,
   "isGpuEnabled": false,
   "isInternetEnabled": true,
   "language": "python",
   "sourceType": "notebook"
  },
  "kernelspec": {
   "display_name": "Python 3",
   "language": "python",
   "name": "python3"
  },
  "language_info": {
   "codemirror_mode": {
    "name": "ipython",
    "version": 3
   },
   "file_extension": ".py",
   "mimetype": "text/x-python",
   "name": "python",
   "nbconvert_exporter": "python",
   "pygments_lexer": "ipython3",
   "version": "3.10.12"
  },
  "papermill": {
   "default_parameters": {},
   "duration": 99.681616,
   "end_time": "2025-02-08T17:00:59.671034",
   "environment_variables": {},
   "exception": null,
   "input_path": "__notebook__.ipynb",
   "output_path": "__notebook__.ipynb",
   "parameters": {},
   "start_time": "2025-02-08T16:59:19.989418",
   "version": "2.6.0"
  }
 },
 "nbformat": 4,
 "nbformat_minor": 5
}
